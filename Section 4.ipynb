{
 "cells": [
  {
   "cell_type": "code",
   "execution_count": 4,
   "id": "0ac60e3e-1781-4b71-af6f-2fa0b31b7e99",
   "metadata": {},
   "outputs": [],
   "source": [
    "# Comparison Operators"
   ]
  },
  {
   "cell_type": "code",
   "execution_count": 6,
   "id": "b227a34b-2de0-4e1d-a20e-709109e782ff",
   "metadata": {},
   "outputs": [
    {
     "data": {
      "text/plain": [
       "True"
      ]
     },
     "execution_count": 6,
     "metadata": {},
     "output_type": "execute_result"
    }
   ],
   "source": [
    "# Equal Operator\n",
    "\n",
    "2 == 2"
   ]
  },
  {
   "cell_type": "code",
   "execution_count": 7,
   "id": "58b2cc58-2faa-4d69-a345-4107d2a7402d",
   "metadata": {},
   "outputs": [
    {
     "data": {
      "text/plain": [
       "False"
      ]
     },
     "execution_count": 7,
     "metadata": {},
     "output_type": "execute_result"
    }
   ],
   "source": [
    "5 == 1"
   ]
  },
  {
   "cell_type": "code",
   "execution_count": 8,
   "id": "88ab5a7c-c624-499b-a220-2fe5adf79093",
   "metadata": {},
   "outputs": [
    {
     "data": {
      "text/plain": [
       "True"
      ]
     },
     "execution_count": 8,
     "metadata": {},
     "output_type": "execute_result"
    }
   ],
   "source": [
    "# Not Equal To Operator\n",
    "\n",
    "2 != 3"
   ]
  },
  {
   "cell_type": "code",
   "execution_count": 9,
   "id": "db32b1c9-de59-4b95-9294-ccdee0654a30",
   "metadata": {},
   "outputs": [
    {
     "data": {
      "text/plain": [
       "False"
      ]
     },
     "execution_count": 9,
     "metadata": {},
     "output_type": "execute_result"
    }
   ],
   "source": [
    "5 != 5"
   ]
  },
  {
   "cell_type": "code",
   "execution_count": 14,
   "id": "57e7ebb0-140b-4eac-8ed2-7fca595d9879",
   "metadata": {},
   "outputs": [
    {
     "data": {
      "text/plain": [
       "True"
      ]
     },
     "execution_count": 14,
     "metadata": {},
     "output_type": "execute_result"
    }
   ],
   "source": [
    "# Greater Than\n",
    "\n",
    "10 > 2"
   ]
  },
  {
   "cell_type": "code",
   "execution_count": 15,
   "id": "b5c094de-7f3d-46f2-a946-497d8c677b6e",
   "metadata": {},
   "outputs": [
    {
     "data": {
      "text/plain": [
       "True"
      ]
     },
     "execution_count": 15,
     "metadata": {},
     "output_type": "execute_result"
    }
   ],
   "source": [
    "# Lesser Than\n",
    "\n",
    "5 < 10"
   ]
  },
  {
   "cell_type": "code",
   "execution_count": 17,
   "id": "d48de8d9-6cd3-40c6-b782-ded60da91713",
   "metadata": {},
   "outputs": [
    {
     "data": {
      "text/plain": [
       "True"
      ]
     },
     "execution_count": 17,
     "metadata": {},
     "output_type": "execute_result"
    }
   ],
   "source": [
    "# Greater Than or Equal to\n",
    "\n",
    "2 >= 2"
   ]
  },
  {
   "cell_type": "code",
   "execution_count": 18,
   "id": "3d1a5e2a-8c05-45c2-abc7-82455fa402d6",
   "metadata": {},
   "outputs": [
    {
     "data": {
      "text/plain": [
       "True"
      ]
     },
     "execution_count": 18,
     "metadata": {},
     "output_type": "execute_result"
    }
   ],
   "source": [
    "5 >= 3"
   ]
  },
  {
   "cell_type": "code",
   "execution_count": 19,
   "id": "455e6808-2fbd-4ef2-9dc8-95ac5993b12c",
   "metadata": {},
   "outputs": [
    {
     "data": {
      "text/plain": [
       "False"
      ]
     },
     "execution_count": 19,
     "metadata": {},
     "output_type": "execute_result"
    }
   ],
   "source": [
    "# Less Than or Equal to\n",
    "\n",
    "3 <= 0"
   ]
  },
  {
   "cell_type": "code",
   "execution_count": 20,
   "id": "db0b31ff-a761-4541-a400-a15affd64bcf",
   "metadata": {},
   "outputs": [
    {
     "data": {
      "text/plain": [
       "True"
      ]
     },
     "execution_count": 20,
     "metadata": {},
     "output_type": "execute_result"
    }
   ],
   "source": [
    "5 <= 7"
   ]
  },
  {
   "cell_type": "code",
   "execution_count": 22,
   "id": "ff03cfd8-f82b-4b25-8008-7bce671c75ad",
   "metadata": {},
   "outputs": [
    {
     "data": {
      "text/plain": [
       "True"
      ]
     },
     "execution_count": 22,
     "metadata": {},
     "output_type": "execute_result"
    }
   ],
   "source": [
    "# Chained Comparison Operators\n",
    "\n",
    "1<2 and 5<6 \n",
    "\n",
    "# If Both The Conditions Are True Then The Resultant Is True.\n",
    "# If One Of The Conditions Is False Then The Resultant Is False. "
   ]
  },
  {
   "cell_type": "code",
   "execution_count": 24,
   "id": "ce4e67c6-8fbf-4465-99fb-097a69f2c248",
   "metadata": {},
   "outputs": [
    {
     "data": {
      "text/plain": [
       "True"
      ]
     },
     "execution_count": 24,
     "metadata": {},
     "output_type": "execute_result"
    }
   ],
   "source": [
    "1>2 or 5<8\n",
    "\n",
    "# If One Of The Condition Is True Then The Resultant Is True."
   ]
  }
 ],
 "metadata": {
  "kernelspec": {
   "display_name": "Python 3 (ipykernel)",
   "language": "python",
   "name": "python3"
  },
  "language_info": {
   "codemirror_mode": {
    "name": "ipython",
    "version": 3
   },
   "file_extension": ".py",
   "mimetype": "text/x-python",
   "name": "python",
   "nbconvert_exporter": "python",
   "pygments_lexer": "ipython3",
   "version": "3.12.7"
  }
 },
 "nbformat": 4,
 "nbformat_minor": 5
}
