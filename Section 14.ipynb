{
 "cells": [
  {
   "cell_type": "code",
   "execution_count": 1,
   "id": "aa30f7a8-e671-48cb-92f1-38024852ccd0",
   "metadata": {},
   "outputs": [],
   "source": [
    "# Advance Python Modules"
   ]
  },
  {
   "cell_type": "code",
   "execution_count": 4,
   "id": "5f10edd4-1307-46e9-bffd-352f026c8878",
   "metadata": {},
   "outputs": [
    {
     "data": {
      "text/plain": [
       "Counter({1: 5, 3: 4, 2: 3, 12: 1, 32: 1, 11: 1, 223: 1})"
      ]
     },
     "execution_count": 4,
     "metadata": {},
     "output_type": "execute_result"
    }
   ],
   "source": [
    "# Counter\n",
    "\n",
    "from collections import Counter\n",
    "lst = [1,2,3,3,3,1,2,1,12,3,2,32,11,1,223,1]\n",
    "\n",
    "Counter(lst)"
   ]
  },
  {
   "cell_type": "code",
   "execution_count": 7,
   "id": "8ae2e6c2-7cef-422e-b155-d902c960ec52",
   "metadata": {},
   "outputs": [
    {
     "name": "stdout",
     "output_type": "stream",
     "text": [
      "Harsh Chauhan\n"
     ]
    }
   ],
   "source": [
    "# defaultdict\n",
    "\n",
    "from collections import defaultdict\n",
    "\n",
    "d = {}\n",
    "d  = defaultdict(object)\n",
    "d['Harsh Chauhan'] \n",
    "\n",
    "for item in d:\n",
    "    print(item)\n",
    "    "
   ]
  },
  {
   "cell_type": "code",
   "execution_count": 9,
   "id": "6af96e0c-8e5f-472a-a171-1653c7fbc580",
   "metadata": {},
   "outputs": [
    {
     "data": {
      "text/plain": [
       "Dog(age=2, breed='Lab', name='Sammy')"
      ]
     },
     "execution_count": 9,
     "metadata": {},
     "output_type": "execute_result"
    }
   ],
   "source": [
    "# namedtuple\n",
    "\n",
    "t = (12,13,14)\n",
    "\n",
    "from collections import namedtuple\n",
    "\n",
    "Dog = namedtuple('Dog',['age','breed','name'])\n",
    "\n",
    "sam = Dog(age=2,breed='Lab',name='Sammy')\n",
    "\n",
    "frank = Dog(age=2,breed='Shepard',name=\"Frankie\")\n",
    "\n",
    "sam  "
   ]
  },
  {
   "cell_type": "code",
   "execution_count": 10,
   "id": "7bdd076b-e626-4dce-b702-3c2eb32855dd",
   "metadata": {},
   "outputs": [
    {
     "data": {
      "text/plain": [
       "2"
      ]
     },
     "execution_count": 10,
     "metadata": {},
     "output_type": "execute_result"
    }
   ],
   "source": [
    "sam.age"
   ]
  },
  {
   "cell_type": "code",
   "execution_count": 11,
   "id": "29c6df1e-2938-4f0a-83d7-6eed15775d72",
   "metadata": {},
   "outputs": [
    {
     "data": {
      "text/plain": [
       "'Lab'"
      ]
     },
     "execution_count": 11,
     "metadata": {},
     "output_type": "execute_result"
    }
   ],
   "source": [
    "sam.breed  "
   ]
  },
  {
   "cell_type": "code",
   "execution_count": 22,
   "id": "d21873dd-63c4-4616-98bb-09bf2f0b7b80",
   "metadata": {},
   "outputs": [],
   "source": [
    "# Opening And Reading Files And Folders\n",
    "\n",
    "f = open('practice.txt','w+')\n",
    "\n",
    "f.write('test')\n",
    "f.close()"
   ]
  },
  {
   "cell_type": "code",
   "execution_count": 23,
   "id": "12fe8b06-74a7-43e4-832f-c037ba4d9753",
   "metadata": {},
   "outputs": [
    {
     "data": {
      "text/plain": [
       "'C:\\\\Users\\\\Sweet Home'"
      ]
     },
     "execution_count": 23,
     "metadata": {},
     "output_type": "execute_result"
    }
   ],
   "source": [
    "import os\n",
    "\n",
    "os.getcwd()"
   ]
  },
  {
   "cell_type": "code",
   "execution_count": 24,
   "id": "200beaab-975d-4bd0-8346-862d0df156d3",
   "metadata": {},
   "outputs": [
    {
     "data": {
      "text/plain": [
       "['.accessibility.properties',\n",
       " '.anaconda',\n",
       " '.android',\n",
       " '.conda',\n",
       " '.condarc',\n",
       " '.continuum',\n",
       " '.ipynb_checkpoints',\n",
       " '.ipython',\n",
       " '.jupyter',\n",
       " '.ms-ad',\n",
       " '1NPDPRO5.DOC',\n",
       " '3D Objects',\n",
       " 'AppData',\n",
       " 'Application Data',\n",
       " 'Contacts',\n",
       " 'Cookies',\n",
       " 'Desktop',\n",
       " 'Documents',\n",
       " 'Downloads',\n",
       " 'Favorites',\n",
       " 'IntelGraphicsProfiles',\n",
       " 'Local Settings',\n",
       " 'Music',\n",
       " 'My Documents',\n",
       " 'NetHood',\n",
       " 'NPProt.bkp',\n",
       " 'NPProt.exe',\n",
       " 'NTUSER.DAT',\n",
       " 'ntuser.dat.LOG1',\n",
       " 'ntuser.dat.LOG2',\n",
       " 'NTUSER.DAT{1d5ab954-807c-11ed-8524-f7811a1c9baf}.TM.blf',\n",
       " 'NTUSER.DAT{1d5ab954-807c-11ed-8524-f7811a1c9baf}.TMContainer00000000000000000001.regtrans-ms',\n",
       " 'NTUSER.DAT{1d5ab954-807c-11ed-8524-f7811a1c9baf}.TMContainer00000000000000000002.regtrans-ms',\n",
       " 'ntuser.ini',\n",
       " 'OneDrive',\n",
       " 'Pictures',\n",
       " 'practice.txt',\n",
       " 'PrintHood',\n",
       " 'Recent',\n",
       " 'Saved Games',\n",
       " 'Searches',\n",
       " 'Section 10.ipynb',\n",
       " 'Section 11.ipynb',\n",
       " 'Section 12.ipynb',\n",
       " 'Section 13.ipynb',\n",
       " 'Section 14.ipynb',\n",
       " 'Section 3.ipynb',\n",
       " 'Section 4.ipynb',\n",
       " 'Section 5.ipynb',\n",
       " 'Section 6.ipynb',\n",
       " 'Section 7.ipynb',\n",
       " 'Section 8.ipynb',\n",
       " 'SendTo',\n",
       " 'Start Menu',\n",
       " 'Templates',\n",
       " 'Videos']"
      ]
     },
     "execution_count": 24,
     "metadata": {},
     "output_type": "execute_result"
    }
   ],
   "source": [
    "os.listdir()"
   ]
  },
  {
   "cell_type": "code",
   "execution_count": 30,
   "id": "ec89c06a-1f81-444a-94f1-e04e1ea66bf8",
   "metadata": {},
   "outputs": [],
   "source": [
    "# Deleting Files\n",
    "\n",
    "import send2trash"
   ]
  },
  {
   "cell_type": "code",
   "execution_count": 31,
   "id": "45d0e17d-1666-4afd-bf4a-3bf30dd82a15",
   "metadata": {},
   "outputs": [
    {
     "data": {
      "text/plain": [
       "['.accessibility.properties',\n",
       " '.anaconda',\n",
       " '.android',\n",
       " '.conda',\n",
       " '.condarc',\n",
       " '.continuum',\n",
       " '.ipynb_checkpoints',\n",
       " '.ipython',\n",
       " '.jupyter',\n",
       " '.ms-ad',\n",
       " '1NPDPRO5.DOC',\n",
       " '3D Objects',\n",
       " 'AppData',\n",
       " 'Application Data',\n",
       " 'Contacts',\n",
       " 'Cookies',\n",
       " 'Desktop',\n",
       " 'Documents',\n",
       " 'Downloads',\n",
       " 'Favorites',\n",
       " 'IntelGraphicsProfiles',\n",
       " 'Local Settings',\n",
       " 'Music',\n",
       " 'My Documents',\n",
       " 'NetHood',\n",
       " 'NPProt.bkp',\n",
       " 'NPProt.exe',\n",
       " 'NTUSER.DAT',\n",
       " 'ntuser.dat.LOG1',\n",
       " 'ntuser.dat.LOG2',\n",
       " 'NTUSER.DAT{1d5ab954-807c-11ed-8524-f7811a1c9baf}.TM.blf',\n",
       " 'NTUSER.DAT{1d5ab954-807c-11ed-8524-f7811a1c9baf}.TMContainer00000000000000000001.regtrans-ms',\n",
       " 'NTUSER.DAT{1d5ab954-807c-11ed-8524-f7811a1c9baf}.TMContainer00000000000000000002.regtrans-ms',\n",
       " 'ntuser.ini',\n",
       " 'OneDrive',\n",
       " 'Pictures',\n",
       " 'practice.txt',\n",
       " 'PrintHood',\n",
       " 'Recent',\n",
       " 'Saved Games',\n",
       " 'Searches',\n",
       " 'Section 10.ipynb',\n",
       " 'Section 11.ipynb',\n",
       " 'Section 12.ipynb',\n",
       " 'Section 13.ipynb',\n",
       " 'Section 14.ipynb',\n",
       " 'Section 3.ipynb',\n",
       " 'Section 4.ipynb',\n",
       " 'Section 5.ipynb',\n",
       " 'Section 6.ipynb',\n",
       " 'Section 7.ipynb',\n",
       " 'Section 8.ipynb',\n",
       " 'SendTo',\n",
       " 'Start Menu',\n",
       " 'Templates',\n",
       " 'Videos']"
      ]
     },
     "execution_count": 31,
     "metadata": {},
     "output_type": "execute_result"
    }
   ],
   "source": [
    "os.listdir()"
   ]
  },
  {
   "cell_type": "code",
   "execution_count": 32,
   "id": "ba47fa99-20d5-48be-bc0a-2df7bd7fb644",
   "metadata": {},
   "outputs": [],
   "source": [
    "send2trash.send2trash('practice.txt')"
   ]
  },
  {
   "cell_type": "code",
   "execution_count": 33,
   "id": "472271e5-e983-479e-8645-10fffde66ae9",
   "metadata": {},
   "outputs": [
    {
     "data": {
      "text/plain": [
       "['.accessibility.properties',\n",
       " '.anaconda',\n",
       " '.android',\n",
       " '.conda',\n",
       " '.condarc',\n",
       " '.continuum',\n",
       " '.ipynb_checkpoints',\n",
       " '.ipython',\n",
       " '.jupyter',\n",
       " '.ms-ad',\n",
       " '1NPDPRO5.DOC',\n",
       " '3D Objects',\n",
       " 'AppData',\n",
       " 'Application Data',\n",
       " 'Contacts',\n",
       " 'Cookies',\n",
       " 'Desktop',\n",
       " 'Documents',\n",
       " 'Downloads',\n",
       " 'Favorites',\n",
       " 'IntelGraphicsProfiles',\n",
       " 'Local Settings',\n",
       " 'Music',\n",
       " 'My Documents',\n",
       " 'NetHood',\n",
       " 'NPProt.bkp',\n",
       " 'NPProt.exe',\n",
       " 'NTUSER.DAT',\n",
       " 'ntuser.dat.LOG1',\n",
       " 'ntuser.dat.LOG2',\n",
       " 'NTUSER.DAT{1d5ab954-807c-11ed-8524-f7811a1c9baf}.TM.blf',\n",
       " 'NTUSER.DAT{1d5ab954-807c-11ed-8524-f7811a1c9baf}.TMContainer00000000000000000001.regtrans-ms',\n",
       " 'NTUSER.DAT{1d5ab954-807c-11ed-8524-f7811a1c9baf}.TMContainer00000000000000000002.regtrans-ms',\n",
       " 'ntuser.ini',\n",
       " 'OneDrive',\n",
       " 'Pictures',\n",
       " 'PrintHood',\n",
       " 'Recent',\n",
       " 'Saved Games',\n",
       " 'Searches',\n",
       " 'Section 10.ipynb',\n",
       " 'Section 11.ipynb',\n",
       " 'Section 12.ipynb',\n",
       " 'Section 13.ipynb',\n",
       " 'Section 14.ipynb',\n",
       " 'Section 3.ipynb',\n",
       " 'Section 4.ipynb',\n",
       " 'Section 5.ipynb',\n",
       " 'Section 6.ipynb',\n",
       " 'Section 7.ipynb',\n",
       " 'Section 8.ipynb',\n",
       " 'SendTo',\n",
       " 'Start Menu',\n",
       " 'Templates',\n",
       " 'Videos']"
      ]
     },
     "execution_count": 33,
     "metadata": {},
     "output_type": "execute_result"
    }
   ],
   "source": [
    "os.listdir()"
   ]
  },
  {
   "cell_type": "code",
   "execution_count": 37,
   "id": "de1d58d2-6183-4bff-a2ce-2246af47f541",
   "metadata": {},
   "outputs": [
    {
     "name": "stdout",
     "output_type": "stream",
     "text": [
      "02:55:05\n",
      "hour  : 2\n",
      "minute: 55\n",
      "second: 5\n",
      "microsecond: 0\n"
     ]
    }
   ],
   "source": [
    "# Date And Time\n",
    "\n",
    "import datetime\n",
    "\n",
    "times = datetime.time(2, 55, 5)\n",
    "\n",
    "print(times)\n",
    "print('hour  :', times.hour)\n",
    "print('minute:', times.minute)\n",
    "print('second:', times.second)\n",
    "print('microsecond:', times.microsecond)"
   ]
  },
  {
   "cell_type": "code",
   "execution_count": 38,
   "id": "6ff62446-98ca-4089-8d1f-abed987c64f7",
   "metadata": {},
   "outputs": [],
   "source": [
    "# Math And Random Modules\n",
    "\n",
    "import math"
   ]
  },
  {
   "cell_type": "code",
   "execution_count": 39,
   "id": "c139cccd-565b-4a22-a816-914aaf5540f9",
   "metadata": {},
   "outputs": [],
   "source": [
    "# Rounding Numbers\n",
    "\n",
    "value = 4.567"
   ]
  },
  {
   "cell_type": "code",
   "execution_count": 40,
   "id": "f9dfe37f-8b5f-413e-aaf1-0d2f3d3e35ee",
   "metadata": {},
   "outputs": [
    {
     "data": {
      "text/plain": [
       "4"
      ]
     },
     "execution_count": 40,
     "metadata": {},
     "output_type": "execute_result"
    }
   ],
   "source": [
    "math.floor(value)"
   ]
  },
  {
   "cell_type": "code",
   "execution_count": 41,
   "id": "ddc0bb25-44a0-48ae-8427-41d550a360d7",
   "metadata": {},
   "outputs": [
    {
     "data": {
      "text/plain": [
       "5"
      ]
     },
     "execution_count": 41,
     "metadata": {},
     "output_type": "execute_result"
    }
   ],
   "source": [
    "math.ceil(value)"
   ]
  },
  {
   "cell_type": "code",
   "execution_count": 42,
   "id": "bccaee7f-61c0-4766-a113-619c2627e2f5",
   "metadata": {},
   "outputs": [
    {
     "data": {
      "text/plain": [
       "5"
      ]
     },
     "execution_count": 42,
     "metadata": {},
     "output_type": "execute_result"
    }
   ],
   "source": [
    "round(value)"
   ]
  },
  {
   "cell_type": "code",
   "execution_count": 43,
   "id": "273985ca-eb6b-4923-b025-79b57c84b4cc",
   "metadata": {},
   "outputs": [],
   "source": [
    "# Random Module\n",
    "\n",
    "import random"
   ]
  },
  {
   "cell_type": "code",
   "execution_count": 44,
   "id": "93b93d13-164d-4d54-b303-4a0697084499",
   "metadata": {},
   "outputs": [
    {
     "data": {
      "text/plain": [
       "48"
      ]
     },
     "execution_count": 44,
     "metadata": {},
     "output_type": "execute_result"
    }
   ],
   "source": [
    "random.randint(0,100)"
   ]
  },
  {
   "cell_type": "code",
   "execution_count": 50,
   "id": "ded545ed-bd49-4f15-84a4-89be050add8f",
   "metadata": {},
   "outputs": [],
   "source": [
    "# Create Files to Compress\n",
    "\n",
    "f = open(\"new_file.txt\",'w+')\n",
    "f.write(\"Here is some text\")\n",
    "f.close()"
   ]
  },
  {
   "cell_type": "code",
   "execution_count": 51,
   "id": "f95bc7ee-80fb-473d-8e7d-07c9e6772f91",
   "metadata": {},
   "outputs": [],
   "source": [
    "f = open(\"new_file2.txt\",'w+')\n",
    "f.write(\"Here is some text\")\n",
    "f.close()"
   ]
  },
  {
   "cell_type": "code",
   "execution_count": 58,
   "id": "d4a49264-e1c8-4c76-a9b5-33bdbe67812f",
   "metadata": {},
   "outputs": [],
   "source": [
    "# Zipping Files\n",
    "\n",
    "import zipfile\n",
    "\n",
    "comp_file = zipfile.ZipFile('comp_file.zip','w')\n",
    "comp_file.write(\"new_file.txt\",compress_type=zipfile.ZIP_DEFLATED)\n",
    "comp_file.write('new_file2.txt',compress_type=zipfile.ZIP_DEFLATED)\n",
    "comp_file.close()"
   ]
  },
  {
   "cell_type": "code",
   "execution_count": 59,
   "id": "b0b76787-b2e8-4160-916a-52168c4273ee",
   "metadata": {},
   "outputs": [],
   "source": [
    "# Extracting from Zip Files\n",
    "\n",
    "zip_obj = zipfile.ZipFile('comp_file.zip','r')\n",
    "zip_obj.extractall(\"extracted_content\")"
   ]
  }
 ],
 "metadata": {
  "kernelspec": {
   "display_name": "Python 3 (ipykernel)",
   "language": "python",
   "name": "python3"
  },
  "language_info": {
   "codemirror_mode": {
    "name": "ipython",
    "version": 3
   },
   "file_extension": ".py",
   "mimetype": "text/x-python",
   "name": "python",
   "nbconvert_exporter": "python",
   "pygments_lexer": "ipython3",
   "version": "3.12.7"
  }
 },
 "nbformat": 4,
 "nbformat_minor": 5
}
