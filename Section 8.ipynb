{
 "cells": [
  {
   "cell_type": "code",
   "execution_count": 1,
   "id": "5bec9c05-5d0b-440b-9bc2-102a40f2a8cf",
   "metadata": {},
   "outputs": [],
   "source": [
    "# Object Oriented Programming"
   ]
  },
  {
   "cell_type": "code",
   "execution_count": 2,
   "id": "13c9781d-1e15-4f7c-b11a-005f59ca1944",
   "metadata": {},
   "outputs": [],
   "source": [
    "# Syntax \n",
    "\n",
    "class NameOfClass():\n",
    "\n",
    "    def __init__(self,param1,param2):\n",
    "        self.param1 = param1\n",
    "        self.param2 = param2\n",
    "\n",
    "    def some_method(self):\n",
    "        # Perform Some Action\n",
    "        print(self.param1)"
   ]
  },
  {
   "cell_type": "code",
   "execution_count": 5,
   "id": "dbca9ba9-530d-4b98-a2ed-02fbf3ea7bcf",
   "metadata": {},
   "outputs": [
    {
     "data": {
      "text/plain": [
       "__main__.Sample"
      ]
     },
     "execution_count": 5,
     "metadata": {},
     "output_type": "execute_result"
    }
   ],
   "source": [
    "# Basic Creating Object\n",
    "\n",
    "class Sample():\n",
    "    pass\n",
    "\n",
    "my_sample = Sample()\n",
    "\n",
    "type(my_sample)"
   ]
  },
  {
   "cell_type": "code",
   "execution_count": 9,
   "id": "c2630bec-a6e6-401f-aaca-26b2c099a939",
   "metadata": {},
   "outputs": [
    {
     "data": {
      "text/plain": [
       "35"
      ]
     },
     "execution_count": 9,
     "metadata": {},
     "output_type": "execute_result"
    }
   ],
   "source": [
    "# Example\n",
    "\n",
    "class Addition():\n",
    "\n",
    "    def __init__(self,add):\n",
    "        self.attribute = add\n",
    "\n",
    "my_addition = Addition(add = 10 + 25)\n",
    "\n",
    "my_addition.attribute"
   ]
  },
  {
   "cell_type": "code",
   "execution_count": 12,
   "id": "8286b9c6-1175-4d19-b277-110a8ef0d571",
   "metadata": {},
   "outputs": [
    {
     "data": {
      "text/plain": [
       "10"
      ]
     },
     "execution_count": 12,
     "metadata": {},
     "output_type": "execute_result"
    }
   ],
   "source": [
    "# Adding Multiple Parameters\n",
    "\n",
    "class Arithmetic():\n",
    "\n",
    "    def __init__(self,add,sub,multi,div):\n",
    "\n",
    "        self.att = add\n",
    "        self.attri = sub\n",
    "        self.attribu = multi\n",
    "        self.attribute = div\n",
    "\n",
    "my_example = Arithmetic(add = 5+5, sub = 25-5, multi = 5 * 5, div = 6/2)\n",
    "\n",
    "my_example.att"
   ]
  },
  {
   "cell_type": "code",
   "execution_count": 13,
   "id": "c67a0207-dff4-4691-b6ec-6c8dea2b915a",
   "metadata": {},
   "outputs": [
    {
     "data": {
      "text/plain": [
       "20"
      ]
     },
     "execution_count": 13,
     "metadata": {},
     "output_type": "execute_result"
    }
   ],
   "source": [
    "my_example.attri"
   ]
  },
  {
   "cell_type": "code",
   "execution_count": 14,
   "id": "cf679157-66a5-4640-9e95-731a3f617762",
   "metadata": {},
   "outputs": [
    {
     "data": {
      "text/plain": [
       "25"
      ]
     },
     "execution_count": 14,
     "metadata": {},
     "output_type": "execute_result"
    }
   ],
   "source": [
    "my_example.attribu"
   ]
  },
  {
   "cell_type": "code",
   "execution_count": 15,
   "id": "15bf2778-5931-4b5d-8afa-187f30effbe4",
   "metadata": {},
   "outputs": [
    {
     "data": {
      "text/plain": [
       "3.0"
      ]
     },
     "execution_count": 15,
     "metadata": {},
     "output_type": "execute_result"
    }
   ],
   "source": [
    "my_example.attribute"
   ]
  },
  {
   "cell_type": "code",
   "execution_count": 38,
   "id": "4c17c314-c132-455f-b307-1c15c9a31a26",
   "metadata": {},
   "outputs": [
    {
     "data": {
      "text/plain": [
       "'Shaky'"
      ]
     },
     "execution_count": 38,
     "metadata": {},
     "output_type": "execute_result"
    }
   ],
   "source": [
    "# Class Object Attribute And Methods\n",
    "\n",
    "class Dog():\n",
    "\n",
    "    def __init__(self,dog_name,species):\n",
    "        self.an = dog_name\n",
    "        self.attribute = species\n",
    "\n",
    "    # Methods \n",
    "    \n",
    "    def bark(self):\n",
    "        print(\"Wolf!\")\n",
    "\n",
    "    def eat(self):\n",
    "        print(\"Bone\")\n",
    "\n",
    "my_example = Dog(dog_name = \"Shaky\", species = \"Mammal\")\n",
    "\n",
    "my_example.an"
   ]
  },
  {
   "cell_type": "code",
   "execution_count": 39,
   "id": "3222d4da-6585-4d0a-9e50-1e81f8e014b9",
   "metadata": {},
   "outputs": [
    {
     "data": {
      "text/plain": [
       "'Mammal'"
      ]
     },
     "execution_count": 39,
     "metadata": {},
     "output_type": "execute_result"
    }
   ],
   "source": [
    "my_example.attribute"
   ]
  },
  {
   "cell_type": "code",
   "execution_count": 40,
   "id": "1abbee19-3019-4cee-b3d2-703d5584bbd7",
   "metadata": {},
   "outputs": [
    {
     "name": "stdout",
     "output_type": "stream",
     "text": [
      "Wolf!\n"
     ]
    }
   ],
   "source": [
    "my_example.bark()"
   ]
  },
  {
   "cell_type": "code",
   "execution_count": 41,
   "id": "4373d52b-24ab-4368-9e5e-6c9039f8b775",
   "metadata": {},
   "outputs": [
    {
     "name": "stdout",
     "output_type": "stream",
     "text": [
      "Bone\n"
     ]
    }
   ],
   "source": [
    "my_example.eat()"
   ]
  },
  {
   "cell_type": "code",
   "execution_count": 53,
   "id": "bc27366a-9af9-49c0-a0ac-360b9174cd68",
   "metadata": {},
   "outputs": [],
   "source": [
    "# Inheritance\n",
    "\n",
    "class Animal():\n",
    "\n",
    "    def __init__(self):\n",
    "        print(\"Animal Is Created\")\n",
    "\n",
    "    def which_animal(self):\n",
    "        print(\"DOG\")\n",
    "\n",
    "    def eat(self):\n",
    "        print(\"Eating A Bone\")\n"
   ]
  },
  {
   "cell_type": "code",
   "execution_count": 61,
   "id": "c2b41e1c-f5fd-44c2-bbc5-497b34db2f90",
   "metadata": {},
   "outputs": [
    {
     "name": "stdout",
     "output_type": "stream",
     "text": [
      "Animal Is Created\n",
      "DOG\n",
      "Eating A Bone\n"
     ]
    }
   ],
   "source": [
    "class Dog(Animal):\n",
    "\n",
    "    def __init__(self):\n",
    "        Animal.__init__(self)\n",
    "        Animal.which_animal(self)\n",
    "        Animal.eat(self)\n",
    "\n",
    "my_dog = Dog()"
   ]
  },
  {
   "cell_type": "code",
   "execution_count": 70,
   "id": "4e0e3848-b052-416a-b6ce-d9d209104408",
   "metadata": {},
   "outputs": [
    {
     "name": "stdout",
     "output_type": "stream",
     "text": [
      "Bunny says Woof!\n",
      "Sweety says Meow!\n"
     ]
    }
   ],
   "source": [
    "# Polymorphism\n",
    "\n",
    "class Animal():\n",
    "    \n",
    "    def __init__(self,name):\n",
    "        self.name = name\n",
    "\n",
    "class Dog(Animal):\n",
    "\n",
    "    def speak(self):\n",
    "        return self.name+' says Woof!'\n",
    "\n",
    "class Cat(Animal):\n",
    "\n",
    "    def speak(self):\n",
    "         return self.name+' says Meow!'\n",
    "\n",
    "bunny = Dog('Bunny')\n",
    "sweety = Cat('Sweety')\n",
    "\n",
    "print(bunny.speak())\n",
    "print(sweety.speak())\n",
    "    "
   ]
  },
  {
   "cell_type": "code",
   "execution_count": 84,
   "id": "bce01be9-951c-4ff4-9c85-8b491457ce80",
   "metadata": {},
   "outputs": [],
   "source": [
    "# Special Methods\n",
    "\n",
    "class Book:\n",
    "\n",
    "    def __init__(self, title, author, pages):\n",
    "        print(\"A Book Is Created\")\n",
    "        self.title = title\n",
    "        self.author = author\n",
    "        self.pages = pages\n",
    "    \n",
    "    def __trp__(self):\n",
    "        return \"Title: %s, author: %s, pages: %s\" %(self.title, self.author, self.pages)\n",
    "\n",
    "    def __len__(self):\n",
    "        return self.pages\n",
    "\n",
    "    def __del__(self):\n",
    "        print(\"A book is destroyed\")"
   ]
  },
  {
   "cell_type": "code",
   "execution_count": 85,
   "id": "8068134a-5c43-4e5f-aa33-edb61adf836d",
   "metadata": {},
   "outputs": [
    {
     "name": "stdout",
     "output_type": "stream",
     "text": [
      "A Book Is Created\n",
      "<__main__.Book object at 0x000001FB8EB58E00>\n",
      "500\n",
      "A book is destroyed\n"
     ]
    }
   ],
   "source": [
    "book = Book(\"Mahabharat\", \"Vyasa\", 500)\n",
    "\n",
    "#Special Methods\n",
    "\n",
    "print(book)\n",
    "print(len(book))\n",
    "del book"
   ]
  },
  {
   "cell_type": "code",
   "execution_count": 86,
   "id": "27676a9c-a8ca-47a3-9235-514cbe7fa264",
   "metadata": {},
   "outputs": [],
   "source": [
    "# Homework\n",
    "\n",
    "class Line(object):\n",
    "    \n",
    "    def __init__(self,coor1,coor2):\n",
    "        self.coor1 = coor1\n",
    "        self.coor2 = coor2\n",
    "    \n",
    "    def distance(self):\n",
    "        x1,y1 = self.coor1\n",
    "        x2,y2 = self.coor2\n",
    "        return ((x2-x1)**2 + (y2-y1)**2)**0.5\n",
    "    \n",
    "    def slope(self):\n",
    "        x1,y1 = self.coor1\n",
    "        x2,y2 = self.coor2\n",
    "        return (y2-y1)/(x2-x1)"
   ]
  },
  {
   "cell_type": "code",
   "execution_count": 90,
   "id": "e622faf1-1e67-4af4-b2a0-4f5a8f97b43d",
   "metadata": {},
   "outputs": [],
   "source": [
    "coordinate1 = (10,20)\n",
    "coordinate2 = (50,75)\n",
    "\n",
    "li = Line(coordinate1,coordinate2)"
   ]
  },
  {
   "cell_type": "code",
   "execution_count": 91,
   "id": "3ff780f6-69cf-4b0c-97e1-2b8d1cd72fa6",
   "metadata": {},
   "outputs": [
    {
     "data": {
      "text/plain": [
       "68.00735254367721"
      ]
     },
     "execution_count": 91,
     "metadata": {},
     "output_type": "execute_result"
    }
   ],
   "source": [
    "li.distance()"
   ]
  },
  {
   "cell_type": "code",
   "execution_count": 92,
   "id": "72d24f3f-1997-41e2-8af0-be0d4564d7b8",
   "metadata": {},
   "outputs": [
    {
     "data": {
      "text/plain": [
       "1.375"
      ]
     },
     "execution_count": 92,
     "metadata": {},
     "output_type": "execute_result"
    }
   ],
   "source": [
    "li.slope()"
   ]
  },
  {
   "cell_type": "code",
   "execution_count": 98,
   "id": "c02da354-5b7a-4cc0-841e-31f3ef5af838",
   "metadata": {},
   "outputs": [],
   "source": [
    "class Cylinder:\n",
    "    \n",
    "    def __init__(self,height=1,radius=1):\n",
    "        self.height = height\n",
    "        self.radius = radius\n",
    "        \n",
    "    def volume(self):\n",
    "        return self.height*3.14*(self.radius)**2\n",
    "    \n",
    "    def surface_area(self):\n",
    "        return 2 * 3.14 * self.radius**2 + 2 * 3.14 * self.radius * self.height"
   ]
  },
  {
   "cell_type": "code",
   "execution_count": 102,
   "id": "f736ee09-2e6b-4562-b916-92e8712ee3aa",
   "metadata": {},
   "outputs": [],
   "source": [
    "cool = Cylinder(10,60)"
   ]
  },
  {
   "cell_type": "code",
   "execution_count": 103,
   "id": "1b497f95-b2a8-47d5-8021-9586146e2be8",
   "metadata": {},
   "outputs": [
    {
     "data": {
      "text/plain": [
       "113040.00000000001"
      ]
     },
     "execution_count": 103,
     "metadata": {},
     "output_type": "execute_result"
    }
   ],
   "source": [
    "cool.volume()"
   ]
  },
  {
   "cell_type": "code",
   "execution_count": 104,
   "id": "2a11ee3d-1af6-4a70-b2e9-7c92d1e0b1de",
   "metadata": {},
   "outputs": [
    {
     "data": {
      "text/plain": [
       "26376.0"
      ]
     },
     "execution_count": 104,
     "metadata": {},
     "output_type": "execute_result"
    }
   ],
   "source": [
    "cool.surface_area()"
   ]
  },
  {
   "cell_type": "code",
   "execution_count": 105,
   "id": "4c9aad8c-3bb1-43ab-bcdd-c811ba4c7de9",
   "metadata": {},
   "outputs": [],
   "source": [
    "# Challenge \n",
    "\n",
    "class Account:\n",
    "    \n",
    "    def __init__(self,owner,balance=0):\n",
    "        self.owner = owner\n",
    "        self.balance = balance\n",
    "        \n",
    "    def __str__(self):\n",
    "        return f'Account owner:   {self.owner}\\nAccount balance: ${self.balance}'\n",
    "        \n",
    "    def deposit(self,dep_amt):\n",
    "        self.balance += dep_amt\n",
    "        print('Deposit Accepted')\n",
    "        \n",
    "    def withdraw(self,wd_amt):\n",
    "        \n",
    "        if self.balance >= wd_amt:\n",
    "           \n",
    "            self.balance -= wd_amt\n",
    "            print('Withdrawal Accepted')\n",
    "       \n",
    "        else:\n",
    "         \n",
    "            print('Funds Unavailable!')"
   ]
  },
  {
   "cell_type": "code",
   "execution_count": 106,
   "id": "2a1f2c1c-4a89-4ae5-896c-cd704ac9ba03",
   "metadata": {},
   "outputs": [],
   "source": [
    "Acc = Account('Harsh',50000)"
   ]
  },
  {
   "cell_type": "code",
   "execution_count": 108,
   "id": "607f4d4e-33c1-43d0-ad31-e97d58c7804a",
   "metadata": {},
   "outputs": [
    {
     "name": "stdout",
     "output_type": "stream",
     "text": [
      "Deposit Accepted\n"
     ]
    }
   ],
   "source": [
    "Acc.deposit(7500)"
   ]
  },
  {
   "cell_type": "code",
   "execution_count": 110,
   "id": "fc5341ab-630a-435d-ba7f-a8fc42566e9c",
   "metadata": {},
   "outputs": [
    {
     "name": "stdout",
     "output_type": "stream",
     "text": [
      "Funds Unavailable!\n"
     ]
    }
   ],
   "source": [
    "Acc.withdraw(50001)"
   ]
  }
 ],
 "metadata": {
  "kernelspec": {
   "display_name": "Python 3 (ipykernel)",
   "language": "python",
   "name": "python3"
  },
  "language_info": {
   "codemirror_mode": {
    "name": "ipython",
    "version": 3
   },
   "file_extension": ".py",
   "mimetype": "text/x-python",
   "name": "python",
   "nbconvert_exporter": "python",
   "pygments_lexer": "ipython3",
   "version": "3.12.7"
  }
 },
 "nbformat": 4,
 "nbformat_minor": 5
}
