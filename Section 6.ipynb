{
 "cells": [
  {
   "cell_type": "code",
   "execution_count": 11,
   "id": "db025b2e-a615-46ab-9fbd-1d0f607290ab",
   "metadata": {},
   "outputs": [
    {
     "name": "stdout",
     "output_type": "stream",
     "text": [
      "10\n"
     ]
    }
   ],
   "source": [
    "# BASIC Of Python Functions\n",
    "\n",
    "def add_function():\n",
    "    a= 2;\n",
    "    b= 8;\n",
    "    c= a+b;\n",
    "    print(c)\n",
    "add_function()"
   ]
  },
  {
   "cell_type": "code",
   "execution_count": 12,
   "id": "e4c015d6-41f4-4c7a-93fe-cf16ef7228c1",
   "metadata": {},
   "outputs": [
    {
     "data": {
      "text/plain": [
       "200"
      ]
     },
     "execution_count": 12,
     "metadata": {},
     "output_type": "execute_result"
    }
   ],
   "source": [
    "# Passing Parameter Into The Function\n",
    "\n",
    "def add_function(num1,num2):\n",
    "    return num1*num2;\n",
    "add_function(10,20)"
   ]
  },
  {
   "cell_type": "code",
   "execution_count": 18,
   "id": "07b87782-3adf-495f-80ca-ed3f524cd4e8",
   "metadata": {},
   "outputs": [
    {
     "data": {
      "text/plain": [
       "True"
      ]
     },
     "execution_count": 18,
     "metadata": {},
     "output_type": "execute_result"
    }
   ],
   "source": [
    "# LOGIC With Python Function\n",
    "\n",
    "def even_number_check(number):\n",
    "    result= number % 2 == 0;\n",
    "    return result\n",
    "even_number_check(22)"
   ]
  },
  {
   "cell_type": "code",
   "execution_count": 40,
   "id": "541d9714-b5fe-4dd9-a3fb-a717b3c52343",
   "metadata": {},
   "outputs": [
    {
     "name": "stdout",
     "output_type": "stream",
     "text": [
      "The List Is Odd\n",
      "The List Is Odd\n",
      "The List Is Odd\n"
     ]
    },
    {
     "data": {
      "text/plain": [
       "True"
      ]
     },
     "execution_count": 40,
     "metadata": {},
     "output_type": "execute_result"
    }
   ],
   "source": [
    "# Funtion Using For Loop\n",
    "\n",
    "def check_even_list(number):\n",
    "    \n",
    "    for i in number:\n",
    "        if i % 2 == 0:\n",
    "            return True\n",
    "        else:\n",
    "            print(\"The List Is Odd\");\n",
    "            \n",
    "check_even_list([1,3,5])\n",
    "\n",
    "check_even_list([2,4,6])"
   ]
  },
  {
   "cell_type": "code",
   "execution_count": 56,
   "id": "1519a481-564f-46cc-8392-bff9fb9490bc",
   "metadata": {},
   "outputs": [
    {
     "data": {
      "text/plain": [
       "[6, 2, 8, 5, 3, 10, 1, 9, 7, 4]"
      ]
     },
     "execution_count": 56,
     "metadata": {},
     "output_type": "execute_result"
    }
   ],
   "source": [
    "# Interactions Between Python Functions\n",
    "\n",
    "from random import shuffle\n",
    "\n",
    "example = [1,2,3,4,5,6,7,8,9,10]\n",
    "\n",
    "result = shuffle(example)\n",
    "\n",
    "result \n",
    "\n",
    "def shuffle_list(mylist):\n",
    "    shuffle(mylist)\n",
    "    return mylist\n",
    "\n",
    "result = shuffle_list(example)\n",
    "result    "
   ]
  },
  {
   "cell_type": "code",
   "execution_count": 4,
   "id": "8c278582-63cd-4dbf-a6f0-d7a6eb8c0bb0",
   "metadata": {},
   "outputs": [
    {
     "data": {
      "text/plain": [
       "5.5"
      ]
     },
     "execution_count": 4,
     "metadata": {},
     "output_type": "execute_result"
    }
   ],
   "source": [
    "# *args and **kwargs in Python\n",
    "\n",
    "def myfunc(*args):\n",
    "    return sum((args)) * 0.05 # 5 %\n",
    "\n",
    "myfunc(60,50)"
   ]
  },
  {
   "cell_type": "code",
   "execution_count": 6,
   "id": "0eed6e91-0c4d-4a98-b02d-4fe9fe1235dd",
   "metadata": {},
   "outputs": [],
   "source": [
    "def myfunc(**kwargs):\n",
    "    print(kwargs)\n",
    "\n",
    "    myfunc(fruit = 'Orange', food = \"Eggs\")"
   ]
  },
  {
   "cell_type": "code",
   "execution_count": 2,
   "id": "e2e7e1fd-98c0-4fa6-9298-96c1f04af614",
   "metadata": {},
   "outputs": [],
   "source": [
    "# Functions Practice Exercises\n",
    "\n",
    "# WarmUp Section\n",
    "\n",
    "#LESSER OF TWO EVENS: Write a function that returns the lesser of two given numbers if both numbers are even, but returns the greater if one or both numbers are odd\n",
    "\n",
    "def lesser_of_two_evens(a,b):\n",
    "    if a % 2 == 0 and b % 2 ==0:\n",
    "        return min(a,b)\n",
    "    else:\n",
    "        return max(a,b)\n",
    "\n"
   ]
  },
  {
   "cell_type": "code",
   "execution_count": 3,
   "id": "e414b7da-2975-4728-bbdb-9b90baeeef82",
   "metadata": {},
   "outputs": [
    {
     "data": {
      "text/plain": [
       "10"
      ]
     },
     "execution_count": 3,
     "metadata": {},
     "output_type": "execute_result"
    }
   ],
   "source": [
    "lesser_of_two_evens(5,10)"
   ]
  },
  {
   "cell_type": "code",
   "execution_count": 4,
   "id": "b2da941d-721f-46a1-8a8b-e2264d08f2ea",
   "metadata": {},
   "outputs": [
    {
     "data": {
      "text/plain": [
       "6"
      ]
     },
     "execution_count": 4,
     "metadata": {},
     "output_type": "execute_result"
    }
   ],
   "source": [
    "lesser_of_two_evens(6,10)"
   ]
  },
  {
   "cell_type": "code",
   "execution_count": 9,
   "id": "53e1a430-dd03-4806-9ebf-4d55fb1b5cb1",
   "metadata": {},
   "outputs": [],
   "source": [
    "# MAKES TWENTY: Given two integers, return True if the sum of the integers is 20 or if one of the integers is 20. If not, return False\n",
    "\n",
    "def random(a,b):\n",
    "    return (a+b) == 20 or a == 20 or b == 20"
   ]
  },
  {
   "cell_type": "code",
   "execution_count": 13,
   "id": "00fbd3c1-1b78-4507-a017-aa480e856d5e",
   "metadata": {},
   "outputs": [
    {
     "data": {
      "text/plain": [
       "False"
      ]
     },
     "execution_count": 13,
     "metadata": {},
     "output_type": "execute_result"
    }
   ],
   "source": [
    "random(50,10)"
   ]
  },
  {
   "cell_type": "code",
   "execution_count": 14,
   "id": "67b71c42-fae3-4683-8f43-66da28536803",
   "metadata": {},
   "outputs": [],
   "source": [
    "# Level 1 Problem \n",
    "\n",
    "# OLD MACDONALD: Write a function that capitalizes the first and fourth letters of a name\n",
    "\n",
    "def variable(name):\n",
    "    if len(name) > 3:\n",
    "        return name[:3].capitalize() + name[3:].capitalize()\n",
    "    else:\n",
    "        return \"Name is Short\""
   ]
  },
  {
   "cell_type": "code",
   "execution_count": 16,
   "id": "5bc4bc2f-6416-4a3c-b591-ac898bfcedf9",
   "metadata": {},
   "outputs": [
    {
     "data": {
      "text/plain": [
       "'MacDonald'"
      ]
     },
     "execution_count": 16,
     "metadata": {},
     "output_type": "execute_result"
    }
   ],
   "source": [
    "variable(\"macdonald\")"
   ]
  },
  {
   "cell_type": "code",
   "execution_count": 37,
   "id": "3be35c0a-c7c3-4d88-a08d-2f4df796573b",
   "metadata": {},
   "outputs": [],
   "source": [
    "# MASTER YODA: Given a sentence, return a sentence with the words reversed\n",
    "\n",
    "def master_yoda(text):\n",
    "    return ' '.join(text.split()[::-1])"
   ]
  },
  {
   "cell_type": "code",
   "execution_count": 38,
   "id": "d7c0b6a2-340c-4df7-9b14-4fb6e46b0c1c",
   "metadata": {},
   "outputs": [
    {
     "data": {
      "text/plain": [
       "'Chauhan Harsh'"
      ]
     },
     "execution_count": 38,
     "metadata": {},
     "output_type": "execute_result"
    }
   ],
   "source": [
    "master_yoda('Harsh Chauhan')"
   ]
  },
  {
   "cell_type": "code",
   "execution_count": 30,
   "id": "97eee362-22fc-426b-b285-525d9fd30706",
   "metadata": {},
   "outputs": [
    {
     "data": {
      "text/plain": [
       "625"
      ]
     },
     "execution_count": 30,
     "metadata": {},
     "output_type": "execute_result"
    }
   ],
   "source": [
    "# Lambda Expression, Map, And Filter Function\n",
    "\n",
    "# Lambda Expression\n",
    "\n",
    "square = lambda num: num ** 2\n",
    "\n",
    "square(25)"
   ]
  },
  {
   "cell_type": "code",
   "execution_count": 31,
   "id": "41689833-54eb-4e5b-9791-faab84116721",
   "metadata": {},
   "outputs": [
    {
     "name": "stdout",
     "output_type": "stream",
     "text": [
      "4\n",
      "16\n",
      "36\n",
      "64\n",
      "100\n"
     ]
    },
    {
     "data": {
      "text/plain": [
       "[4, 16, 36, 64, 100]"
      ]
     },
     "execution_count": 31,
     "metadata": {},
     "output_type": "execute_result"
    }
   ],
   "source": [
    "# Square Function\n",
    "\n",
    "def square(num):\n",
    "    return num ** 2\n",
    "\n",
    "my_num = [2,4,6,8,10]\n",
    "\n",
    "for item in map(square,my_num):\n",
    "    print(item)\n",
    "\n",
    "list(map(square,my_num))"
   ]
  },
  {
   "cell_type": "code",
   "execution_count": 27,
   "id": "c4dfce23-cbc2-4ffb-b874-4a982a8ecb4f",
   "metadata": {},
   "outputs": [
    {
     "name": "stdout",
     "output_type": "stream",
     "text": [
      "Odd\n",
      "Even\n",
      "Odd\n"
     ]
    },
    {
     "data": {
      "text/plain": [
       "[None, None, None]"
      ]
     },
     "execution_count": 27,
     "metadata": {},
     "output_type": "execute_result"
    }
   ],
   "source": [
    "# Checking String Is Even Or Odd\n",
    "\n",
    "def slicer(mystring):\n",
    "    if len(mystring) % 2 == 0:\n",
    "        return print('Even')\n",
    "    else:\n",
    "        return print('Odd')\n",
    "\n",
    "string = ['Harsh', 'Girish', 'Chauhan']\n",
    "\n",
    "map(slicer,string) # Shows The Memory Location #  Map Function\n",
    "\n",
    "list(map(slicer,string))"
   ]
  },
  {
   "cell_type": "code",
   "execution_count": 28,
   "id": "e5e1f133-f030-4eea-a556-774289731290",
   "metadata": {},
   "outputs": [
    {
     "data": {
      "text/plain": [
       "<filter at 0x20e30c131c0>"
      ]
     },
     "execution_count": 28,
     "metadata": {},
     "output_type": "execute_result"
    }
   ],
   "source": [
    "# Filter Function\n",
    "\n",
    "def my_string(string):\n",
    "    if len(string) % 2 == 0:\n",
    "        return print('Even')\n",
    "    else:\n",
    "        return print('Odd')\n",
    "\n",
    "names = [\"Girish\", \"Noor\", \"Bhavesh\"]\n",
    "\n",
    "filter(my_string,names) # Shows The Memory Location  # Filter Function"
   ]
  },
  {
   "cell_type": "code",
   "execution_count": 37,
   "id": "6a66623c-c681-4ef1-952d-a6cec035f33a",
   "metadata": {},
   "outputs": [
    {
     "name": "stdout",
     "output_type": "stream",
     "text": [
      "Hello Harsh\n"
     ]
    }
   ],
   "source": [
    "# Nested Statement And Scope\n",
    "\n",
    "def great():\n",
    "    name = \"Harsh\"\n",
    "\n",
    "    def hello():\n",
    "        print('Hello '+ name)\n",
    "        \n",
    "    hello()\n",
    "    \n",
    "great()"
   ]
  },
  {
   "cell_type": "code",
   "execution_count": 39,
   "id": "a291d754-8ccf-42fd-a04b-40f62ffbe086",
   "metadata": {},
   "outputs": [
    {
     "data": {
      "text/plain": [
       "524.9999999999999"
      ]
     },
     "execution_count": 39,
     "metadata": {},
     "output_type": "execute_result"
    }
   ],
   "source": [
    "# Method And Function Homework\n",
    "\n",
    "# Write a function that computes the volume of a sphere given its radius.\n",
    "\n",
    "def vol(radius):\n",
    "    return (4 / 3) * (3.15) * (radius ** 3)\n",
    "\n",
    "vol(5)"
   ]
  },
  {
   "cell_type": "code",
   "execution_count": 55,
   "id": "dd000f85-bd1f-48a6-9a3f-afdcb3465a1a",
   "metadata": {},
   "outputs": [],
   "source": [
    "# Write a Python function that accepts a string and calculates the number of upper case letters and lower case letters.\n",
    "\n",
    "def up_low(s):\n",
    "    d = {\"upper\":0, \"lower\":0}\n",
    "    for hello in s:\n",
    "        if hello.isupper():\n",
    "            d[\"upper\"]+=1\n",
    "        elif hello.islower():\n",
    "            d[\"lower\"]+=1\n",
    "        else:\n",
    "            pass\n",
    "    print(\"Original String: \", s)\n",
    "    print(\"No Of Upper Case:\", d[\"upper\"])\n",
    "    print(\"No Of Lower Case:\", d[\"lower\"])"
   ]
  },
  {
   "cell_type": "code",
   "execution_count": 56,
   "id": "c48bf5df-ad56-4a17-847e-c38478732fd4",
   "metadata": {},
   "outputs": [
    {
     "name": "stdout",
     "output_type": "stream",
     "text": [
      "Original String:  Hello To PYTHON The WORLD\n",
      "No Of Upper Case: 14\n",
      "No Of Lower Case: 7\n"
     ]
    }
   ],
   "source": [
    "s = 'Hello To PYTHON The WORLD'\n",
    "up_low(s)"
   ]
  }
 ],
 "metadata": {
  "kernelspec": {
   "display_name": "Python 3 (ipykernel)",
   "language": "python",
   "name": "python3"
  },
  "language_info": {
   "codemirror_mode": {
    "name": "ipython",
    "version": 3
   },
   "file_extension": ".py",
   "mimetype": "text/x-python",
   "name": "python",
   "nbconvert_exporter": "python",
   "pygments_lexer": "ipython3",
   "version": "3.12.7"
  }
 },
 "nbformat": 4,
 "nbformat_minor": 5
}
