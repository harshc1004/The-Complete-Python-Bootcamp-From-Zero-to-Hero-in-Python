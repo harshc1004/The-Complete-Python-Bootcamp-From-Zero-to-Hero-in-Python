{
 "cells": [
  {
   "cell_type": "code",
   "execution_count": 1,
   "id": "4249c868-19d4-4f32-99db-5515ffb002c2",
   "metadata": {},
   "outputs": [],
   "source": [
    "# Python Statement"
   ]
  },
  {
   "cell_type": "code",
   "execution_count": 7,
   "id": "ac4aa816-aceb-4c50-a202-1448fca0ea2e",
   "metadata": {},
   "outputs": [
    {
     "name": "stdout",
     "output_type": "stream",
     "text": [
      "The Number Is Odd\n"
     ]
    }
   ],
   "source": [
    "# IF Else Statement\n",
    "\n",
    "number = 7\n",
    "\n",
    "if number % 2 == 0:\n",
    "    print(\"The Number Is Even\")\n",
    "else:\n",
    "    print(\"The Number Is Odd\")"
   ]
  },
  {
   "cell_type": "code",
   "execution_count": 23,
   "id": "253e6abb-7fa9-4830-8f1a-097d28638ca9",
   "metadata": {},
   "outputs": [
    {
     "name": "stdout",
     "output_type": "stream",
     "text": [
      "Better Location\n"
     ]
    }
   ],
   "source": [
    "# If Elif Else Statemnet\n",
    "\n",
    "loc = \"School\"\n",
    "\n",
    "if loc == \"Organization\":\n",
    "    print(\"Good Location\")\n",
    "\n",
    "elif loc == \"School\":\n",
    "    print(\"Better Location\")\n",
    "\n",
    "else: \n",
    "    loc == \"Insitution\"\n",
    "    print(\"Best Location\")"
   ]
  },
  {
   "cell_type": "code",
   "execution_count": 11,
   "id": "fd48942d-9a33-4b6e-8e35-5ca1a91547e3",
   "metadata": {},
   "outputs": [
    {
     "name": "stdout",
     "output_type": "stream",
     "text": [
      "2\n",
      "4\n",
      "6\n",
      "8\n",
      "10\n"
     ]
    }
   ],
   "source": [
    "# For Loop Statement\n",
    "\n",
    "my_list = [1,2,3,4,5,6,7,8,9,10]\n",
    "\n",
    "for i in my_list:\n",
    "    if i % 2 == 0:\n",
    "        print(i)"
   ]
  },
  {
   "cell_type": "code",
   "execution_count": 12,
   "id": "c1a71841-005d-4631-877f-89a34e66b259",
   "metadata": {},
   "outputs": [
    {
     "name": "stdout",
     "output_type": "stream",
     "text": [
      "x is currently 5\n",
      "x is currently 6\n",
      "x is currently 7\n",
      "x is currently 8\n",
      "x is currently 9\n",
      "x is currently 10\n",
      "x is currently 11\n",
      "x is currently 12\n",
      "x is currently 13\n",
      "x is currently 14\n",
      "x is currently 15\n",
      "x is currently 16\n",
      "x is currently 17\n",
      "x is currently 18\n",
      "x is currently 19\n",
      "x is currently 20\n",
      "x is currently 21\n",
      "x is currently 22\n",
      "x is currently 23\n",
      "x is currently 24\n",
      "x is currently 25\n",
      "x is currently 26\n",
      "x is currently 27\n",
      "x is currently 28\n",
      "x is currently 29\n",
      "x is currently 30\n",
      "x is currently 31\n",
      "x is currently 32\n",
      "x is currently 33\n",
      "x is currently 34\n",
      "x is currently 35\n",
      "x is currently 36\n",
      "x is currently 37\n",
      "x is currently 38\n",
      "x is currently 39\n",
      "x is currently 40\n",
      "x is currently 41\n",
      "x is currently 42\n",
      "x is currently 43\n",
      "x is currently 44\n",
      "x is currently 45\n",
      "x is currently 46\n",
      "x is currently 47\n",
      "x is currently 48\n",
      "x is currently 49\n"
     ]
    }
   ],
   "source": [
    "# While Loop Statement\n",
    "\n",
    "x = 5\n",
    "\n",
    "while x < 50:\n",
    "    print(\"x is currently\",x)\n",
    "    x+=1"
   ]
  },
  {
   "cell_type": "code",
   "execution_count": 16,
   "id": "5828ecbc-ec60-4e3b-afe2-c1af5fbb6ab8",
   "metadata": {},
   "outputs": [
    {
     "name": "stdout",
     "output_type": "stream",
     "text": [
      "x is currently:  0\n",
      "continuing...\n",
      "x is currently:  1\n",
      "continuing...\n",
      "x is currently:  2\n",
      "continuing...\n",
      "x is currently:  3\n",
      "continuing...\n",
      "x is currently:  4\n",
      "continuing...\n",
      "x is currently:  5\n",
      "continuing...\n",
      "x is currently:  6\n",
      "continuing...\n",
      "x is currently:  7\n",
      "continuing...\n",
      "x is currently:  8\n",
      "Breaking because x==9\n"
     ]
    }
   ],
   "source": [
    "x = 0\n",
    "\n",
    "while x < 10:\n",
    "    print('x is currently: ',x)\n",
    "    \n",
    "    x+=1\n",
    "    \n",
    "    if x==9:\n",
    "        print('Breaking because x==9')\n",
    "        break\n",
    "    else:\n",
    "        print('continuing...')\n",
    "        continue"
   ]
  }
 ],
 "metadata": {
  "kernelspec": {
   "display_name": "Python 3 (ipykernel)",
   "language": "python",
   "name": "python3"
  },
  "language_info": {
   "codemirror_mode": {
    "name": "ipython",
    "version": 3
   },
   "file_extension": ".py",
   "mimetype": "text/x-python",
   "name": "python",
   "nbconvert_exporter": "python",
   "pygments_lexer": "ipython3",
   "version": "3.12.7"
  }
 },
 "nbformat": 4,
 "nbformat_minor": 5
}
