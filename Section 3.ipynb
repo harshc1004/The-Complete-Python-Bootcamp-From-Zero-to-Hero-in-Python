{
 "cells": [
  {
   "cell_type": "code",
   "execution_count": 12,
   "id": "602d3a18-59e3-4109-93c2-d17287e17830",
   "metadata": {},
   "outputs": [],
   "source": [
    "# Basic Arithmetic"
   ]
  },
  {
   "cell_type": "code",
   "execution_count": 13,
   "id": "67859df3-54c0-48e9-8bde-835a359a23dc",
   "metadata": {},
   "outputs": [
    {
     "data": {
      "text/plain": [
       "40"
      ]
     },
     "execution_count": 13,
     "metadata": {},
     "output_type": "execute_result"
    }
   ],
   "source": [
    "# Addition\n",
    "\n",
    "15 + 25"
   ]
  },
  {
   "cell_type": "code",
   "execution_count": 14,
   "id": "1470a05d-9cbc-48f6-96df-8edecf338ac3",
   "metadata": {},
   "outputs": [
    {
     "data": {
      "text/plain": [
       "-5"
      ]
     },
     "execution_count": 14,
     "metadata": {},
     "output_type": "execute_result"
    }
   ],
   "source": [
    "# Substraction\n",
    "\n",
    "10 - 15"
   ]
  },
  {
   "cell_type": "code",
   "execution_count": 15,
   "id": "3d3dd6fd-1fee-46a8-901e-d75ffe86d4ca",
   "metadata": {},
   "outputs": [
    {
     "data": {
      "text/plain": [
       "48"
      ]
     },
     "execution_count": 15,
     "metadata": {},
     "output_type": "execute_result"
    }
   ],
   "source": [
    "# Multiplication\n",
    "\n",
    "8 * 6"
   ]
  },
  {
   "cell_type": "code",
   "execution_count": 16,
   "id": "3ddc8953-b92a-430d-b34d-053f6604fea3",
   "metadata": {},
   "outputs": [
    {
     "data": {
      "text/plain": [
       "2.0"
      ]
     },
     "execution_count": 16,
     "metadata": {},
     "output_type": "execute_result"
    }
   ],
   "source": [
    "# Division\n",
    "\n",
    "10 / 5"
   ]
  },
  {
   "cell_type": "code",
   "execution_count": 17,
   "id": "92a45a90-e6b5-4a57-96ed-cb54bd71d0da",
   "metadata": {},
   "outputs": [
    {
     "data": {
      "text/plain": [
       "2"
      ]
     },
     "execution_count": 17,
     "metadata": {},
     "output_type": "execute_result"
    }
   ],
   "source": [
    "# Modulo \n",
    "\n",
    "7 % 5"
   ]
  },
  {
   "cell_type": "code",
   "execution_count": 18,
   "id": "f7cb1221-731d-432c-b180-0c1cb9a23572",
   "metadata": {},
   "outputs": [
    {
     "data": {
      "text/plain": [
       "100000"
      ]
     },
     "execution_count": 18,
     "metadata": {},
     "output_type": "execute_result"
    }
   ],
   "source": [
    "# Power\n",
    "\n",
    "10 ** 5"
   ]
  },
  {
   "cell_type": "code",
   "execution_count": 20,
   "id": "5f4e39d6-1f2a-4a45-9c6a-61c2635a8b5f",
   "metadata": {},
   "outputs": [
    {
     "data": {
      "text/plain": [
       "10"
      ]
     },
     "execution_count": 20,
     "metadata": {},
     "output_type": "execute_result"
    }
   ],
   "source": [
    "# Variable Assisgnment \n",
    "\n",
    "a = 5\n",
    "a + a"
   ]
  },
  {
   "cell_type": "code",
   "execution_count": 21,
   "id": "304068c9-60b3-478c-beb2-10a2689e0f6c",
   "metadata": {},
   "outputs": [
    {
     "data": {
      "text/plain": [
       "'Hello'"
      ]
     },
     "execution_count": 21,
     "metadata": {},
     "output_type": "execute_result"
    }
   ],
   "source": [
    "# Create A String \n",
    "\n",
    "\"Hello\""
   ]
  },
  {
   "cell_type": "code",
   "execution_count": 44,
   "id": "5ada08ea-ad67-4725-9391-418208ef66be",
   "metadata": {},
   "outputs": [
    {
     "data": {
      "text/plain": [
       "23"
      ]
     },
     "execution_count": 44,
     "metadata": {},
     "output_type": "execute_result"
    }
   ],
   "source": [
    "# String Basic\n",
    "\n",
    "len(\"Welcome To Python World\")"
   ]
  },
  {
   "cell_type": "code",
   "execution_count": 36,
   "id": "40dff9d4-82e1-42a2-9457-fedc27a0feb9",
   "metadata": {},
   "outputs": [
    {
     "name": "stdout",
     "output_type": "stream",
     "text": [
      "WELCOME TO PYTHON WORLD\n"
     ]
    },
    {
     "data": {
      "text/plain": [
       "'EL'"
      ]
     },
     "execution_count": 36,
     "metadata": {},
     "output_type": "execute_result"
    }
   ],
   "source": [
    "# String Indexing & Slicing With String\n",
    "\n",
    "var = \"WELCOME TO PYTHON WORLD\"\n",
    "print(var)\n",
    "\n",
    "var[1:3]"
   ]
  },
  {
   "cell_type": "code",
   "execution_count": 42,
   "id": "f5384dfd-4cf8-4a2e-a6a0-fb4246630f8a",
   "metadata": {},
   "outputs": [
    {
     "name": "stdout",
     "output_type": "stream",
     "text": [
      "Python World Welcomes You\n"
     ]
    }
   ],
   "source": [
    "# String Properties\n",
    "\n",
    "var1 = \"Python World\"\n",
    "var1 = var1 + ' Welcomes You'\n",
    "\n",
    "print(var1)"
   ]
  },
  {
   "cell_type": "code",
   "execution_count": 49,
   "id": "8e52b3d8-71bf-4a18-9223-2d859b872826",
   "metadata": {},
   "outputs": [],
   "source": [
    "# String Methods\n",
    "\n",
    "var2 = \"Noor Ahmed Ansari\""
   ]
  },
  {
   "cell_type": "code",
   "execution_count": 48,
   "id": "04360855-441e-424b-b799-0385d25e0b48",
   "metadata": {},
   "outputs": [
    {
     "data": {
      "text/plain": [
       "'NOOR AHMED ANSARI'"
      ]
     },
     "execution_count": 48,
     "metadata": {},
     "output_type": "execute_result"
    }
   ],
   "source": [
    "var2.upper()"
   ]
  },
  {
   "cell_type": "code",
   "execution_count": 50,
   "id": "c0e8e3f7-36a2-46d3-ab79-a02f6fa25197",
   "metadata": {},
   "outputs": [
    {
     "data": {
      "text/plain": [
       "'noor ahmed ansari'"
      ]
     },
     "execution_count": 50,
     "metadata": {},
     "output_type": "execute_result"
    }
   ],
   "source": [
    "var2.lower()"
   ]
  },
  {
   "cell_type": "code",
   "execution_count": 51,
   "id": "b0de5e23-921a-4721-a6ea-23f117cd7689",
   "metadata": {},
   "outputs": [
    {
     "data": {
      "text/plain": [
       "['Noor', 'Ahmed', 'Ansari']"
      ]
     },
     "execution_count": 51,
     "metadata": {},
     "output_type": "execute_result"
    }
   ],
   "source": [
    "var2.split()"
   ]
  },
  {
   "cell_type": "code",
   "execution_count": 52,
   "id": "4b9f98bb-f9c0-4d29-b3b2-e29f3d7c954c",
   "metadata": {},
   "outputs": [
    {
     "data": {
      "text/plain": [
       "6"
      ]
     },
     "execution_count": 52,
     "metadata": {},
     "output_type": "execute_result"
    }
   ],
   "source": [
    "# List\n",
    "\n",
    "my_list = [1,2,3,4,5,6]\n",
    "\n",
    "len(my_list)"
   ]
  },
  {
   "cell_type": "code",
   "execution_count": 53,
   "id": "2351b25a-2b6d-433c-907a-88913fe8ed2e",
   "metadata": {},
   "outputs": [
    {
     "data": {
      "text/plain": [
       "[1, 2, 3, 4, 5]"
      ]
     },
     "execution_count": 53,
     "metadata": {},
     "output_type": "execute_result"
    }
   ],
   "source": [
    "# Slicing And Indexing With List \n",
    "\n",
    "my_list[0:5]"
   ]
  },
  {
   "cell_type": "code",
   "execution_count": 54,
   "id": "7cf25bbc-e43f-4789-9bed-7e3a721692d7",
   "metadata": {},
   "outputs": [
    {
     "data": {
      "text/plain": [
       "[1, 2, 3, 4, 5, 6, 'Harsh Chauhan']"
      ]
     },
     "execution_count": 54,
     "metadata": {},
     "output_type": "execute_result"
    }
   ],
   "source": [
    "my_list + [\"Harsh Chauhan\"]"
   ]
  },
  {
   "cell_type": "code",
   "execution_count": 72,
   "id": "dcb90142-4118-4744-89dc-b7657619cdc6",
   "metadata": {},
   "outputs": [],
   "source": [
    "# List Methods\n",
    "\n",
    "new_list = [1,2,3,4,5,6]"
   ]
  },
  {
   "cell_type": "code",
   "execution_count": 73,
   "id": "4064931b-f863-4597-b442-a982b214c5e3",
   "metadata": {},
   "outputs": [
    {
     "data": {
      "text/plain": [
       "6"
      ]
     },
     "execution_count": 73,
     "metadata": {},
     "output_type": "execute_result"
    }
   ],
   "source": [
    "new_list.pop()"
   ]
  },
  {
   "cell_type": "code",
   "execution_count": 77,
   "id": "0ea54f5c-daf0-4950-99fe-4d8885dc4176",
   "metadata": {},
   "outputs": [
    {
     "data": {
      "text/plain": [
       "[1, 2, 3, 4, 5]"
      ]
     },
     "execution_count": 77,
     "metadata": {},
     "output_type": "execute_result"
    }
   ],
   "source": [
    "new_list"
   ]
  },
  {
   "cell_type": "code",
   "execution_count": 78,
   "id": "e000f855-00b4-4b1d-86c0-0515bdc45b75",
   "metadata": {},
   "outputs": [],
   "source": [
    "new_list.reverse()"
   ]
  },
  {
   "cell_type": "code",
   "execution_count": 79,
   "id": "7ee5b7d5-d4b0-4530-a061-4ec158925fce",
   "metadata": {},
   "outputs": [
    {
     "data": {
      "text/plain": [
       "[5, 4, 3, 2, 1]"
      ]
     },
     "execution_count": 79,
     "metadata": {},
     "output_type": "execute_result"
    }
   ],
   "source": [
    "new_list"
   ]
  },
  {
   "cell_type": "code",
   "execution_count": 80,
   "id": "f35fdd2e-fb57-4f07-9794-335278f50591",
   "metadata": {},
   "outputs": [],
   "source": [
    "new_list.sort()"
   ]
  },
  {
   "cell_type": "code",
   "execution_count": 81,
   "id": "09acc027-29f6-4021-9669-33f6f27b8716",
   "metadata": {},
   "outputs": [
    {
     "data": {
      "text/plain": [
       "[1, 2, 3, 4, 5]"
      ]
     },
     "execution_count": 81,
     "metadata": {},
     "output_type": "execute_result"
    }
   ],
   "source": [
    "new_list"
   ]
  },
  {
   "cell_type": "code",
   "execution_count": 95,
   "id": "74b00e52-72e8-4167-873e-6e6a4dcd50b0",
   "metadata": {},
   "outputs": [],
   "source": [
    "# Dictonaries\n",
    "\n",
    "my_dicto = {'food': 'Pizza', 'Device': 'Mobile', 'animal': 'beer'}"
   ]
  },
  {
   "cell_type": "code",
   "execution_count": 100,
   "id": "2ee7b7f1-ba8b-4b96-9b2e-350cb1dd0e37",
   "metadata": {},
   "outputs": [
    {
     "data": {
      "text/plain": [
       "'Pizza'"
      ]
     },
     "execution_count": 100,
     "metadata": {},
     "output_type": "execute_result"
    }
   ],
   "source": [
    "my_dicto['food']"
   ]
  },
  {
   "cell_type": "code",
   "execution_count": 110,
   "id": "1a30e005-3b49-4867-8d11-3f67cf6cdf38",
   "metadata": {},
   "outputs": [
    {
     "data": {
      "text/plain": [
       "5"
      ]
     },
     "execution_count": 110,
     "metadata": {},
     "output_type": "execute_result"
    }
   ],
   "source": [
    "# Tuples (Immutability)\n",
    "\n",
    "t = (1,2,3,40,'Harsh')\n",
    "len(t)"
   ]
  },
  {
   "cell_type": "code",
   "execution_count": 111,
   "id": "a79c7b35-2c92-4fa2-8e63-98a09637bc00",
   "metadata": {},
   "outputs": [
    {
     "data": {
      "text/plain": [
       "3"
      ]
     },
     "execution_count": 111,
     "metadata": {},
     "output_type": "execute_result"
    }
   ],
   "source": [
    "# Tuples Methods\n",
    "\n",
    "t.index(40)"
   ]
  },
  {
   "cell_type": "code",
   "execution_count": 112,
   "id": "fcd8f661-8193-42ab-ba30-88ee54327c0e",
   "metadata": {},
   "outputs": [
    {
     "data": {
      "text/plain": [
       "1"
      ]
     },
     "execution_count": 112,
     "metadata": {},
     "output_type": "execute_result"
    }
   ],
   "source": [
    "t.count('Harsh')"
   ]
  }
 ],
 "metadata": {
  "kernelspec": {
   "display_name": "Python 3 (ipykernel)",
   "language": "python",
   "name": "python3"
  },
  "language_info": {
   "codemirror_mode": {
    "name": "ipython",
    "version": 3
   },
   "file_extension": ".py",
   "mimetype": "text/x-python",
   "name": "python",
   "nbconvert_exporter": "python",
   "pygments_lexer": "ipython3",
   "version": "3.12.7"
  }
 },
 "nbformat": 4,
 "nbformat_minor": 5
}
