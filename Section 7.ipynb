{
 "cells": [
  {
   "cell_type": "code",
   "execution_count": 1,
   "id": "1673c4fd-8ac8-4116-84da-589d861bcb05",
   "metadata": {},
   "outputs": [
    {
     "name": "stdout",
     "output_type": "stream",
     "text": [
      "[9, 8, 7]\n",
      "[6, 5, 4]\n",
      "[3, 2, 1]\n"
     ]
    }
   ],
   "source": [
    "# Displaying Information\n",
    "\n",
    "print([9,8,7])\n",
    "print([6,5,4])\n",
    "print([3,2,1])"
   ]
  },
  {
   "cell_type": "code",
   "execution_count": 2,
   "id": "9313fec9-fd54-471d-b303-b48f3d1481df",
   "metadata": {},
   "outputs": [
    {
     "name": "stdout",
     "output_type": "stream",
     "text": [
      "[1, 2, 3]\n",
      "[1, 2, 3]\n",
      "[1, 2, 3]\n"
     ]
    }
   ],
   "source": [
    "def example(row1,row2,row3):\n",
    "    print(row1)\n",
    "    print(row2)\n",
    "    print(row3)\n",
    "\n",
    "my_example = [1,2,3]\n",
    "\n",
    "example(my_example,my_example,my_example)"
   ]
  },
  {
   "cell_type": "code",
   "execution_count": 3,
   "id": "77dd9442-2c28-46f6-b32e-882bcf1059e6",
   "metadata": {},
   "outputs": [
    {
     "name": "stdout",
     "output_type": "stream",
     "text": [
      "[' ', ' ', ' ']\n",
      "[' ', ' ', ' ']\n",
      "[' ', ' ', ' ']\n"
     ]
    }
   ],
   "source": [
    "row1 = [' ',' ',' ']\n",
    "row2 = [' ',' ',' ']\n",
    "row3 = [' ',' ',' ']\n",
    "\n",
    "example(row1,row2,row3)"
   ]
  },
  {
   "cell_type": "code",
   "execution_count": 4,
   "id": "e6b68ddd-ec45-445c-bfec-e23214b0a9f9",
   "metadata": {},
   "outputs": [],
   "source": [
    "row2[1] = 'X'"
   ]
  },
  {
   "cell_type": "code",
   "execution_count": 5,
   "id": "e75508c2-0372-427f-8f32-45cef8240657",
   "metadata": {},
   "outputs": [
    {
     "name": "stdout",
     "output_type": "stream",
     "text": [
      "[' ', ' ', ' ']\n",
      "[' ', 'X', ' ']\n",
      "[' ', ' ', ' ']\n"
     ]
    }
   ],
   "source": [
    "example(row1,row2,row3)"
   ]
  },
  {
   "cell_type": "code",
   "execution_count": 6,
   "id": "af98d196-ce05-43fe-8e93-5e898c258ef0",
   "metadata": {},
   "outputs": [
    {
     "name": "stdin",
     "output_type": "stream",
     "text": [
      "Enter The Number:  10\n"
     ]
    },
    {
     "data": {
      "text/plain": [
       "'10'"
      ]
     },
     "execution_count": 6,
     "metadata": {},
     "output_type": "execute_result"
    }
   ],
   "source": [
    "# Accepting User Input \n",
    "\n",
    "input(\"Enter The Number: \")"
   ]
  },
  {
   "cell_type": "code",
   "execution_count": 7,
   "id": "5de8a4c0-42be-4c52-ba51-88fcb2628608",
   "metadata": {},
   "outputs": [
    {
     "name": "stdin",
     "output_type": "stream",
     "text": [
      "Enter The Number:  20\n"
     ]
    }
   ],
   "source": [
    "result = input(\"Enter The Number: \")"
   ]
  },
  {
   "cell_type": "code",
   "execution_count": 8,
   "id": "d2b3df27-7f69-449b-babf-f4a78abf9703",
   "metadata": {},
   "outputs": [
    {
     "data": {
      "text/plain": [
       "str"
      ]
     },
     "execution_count": 8,
     "metadata": {},
     "output_type": "execute_result"
    }
   ],
   "source": [
    "type(result)"
   ]
  },
  {
   "cell_type": "code",
   "execution_count": 9,
   "id": "dc548d94-5273-4efc-851f-1ff1106696fb",
   "metadata": {},
   "outputs": [
    {
     "name": "stdin",
     "output_type": "stream",
     "text": [
      "Enter The Number:  30\n"
     ]
    }
   ],
   "source": [
    "result = int(input(\"Enter The Number: \"))"
   ]
  },
  {
   "cell_type": "code",
   "execution_count": 10,
   "id": "010598fe-26e6-46f0-bbd7-14bff4d15972",
   "metadata": {},
   "outputs": [
    {
     "data": {
      "text/plain": [
       "int"
      ]
     },
     "execution_count": 10,
     "metadata": {},
     "output_type": "execute_result"
    }
   ],
   "source": [
    "type(result)"
   ]
  },
  {
   "cell_type": "code",
   "execution_count": 13,
   "id": "9d36cd11-d7bb-4551-bde8-42ff2a66287f",
   "metadata": {},
   "outputs": [
    {
     "name": "stdin",
     "output_type": "stream",
     "text": [
      "Enter The Number Between (1-10) Three\n"
     ]
    },
    {
     "name": "stdout",
     "output_type": "stream",
     "text": [
      "Sorry, Its Not A Digit\n"
     ]
    },
    {
     "name": "stdin",
     "output_type": "stream",
     "text": [
      "Enter The Number Between (1-10) 65\n"
     ]
    },
    {
     "name": "stdout",
     "output_type": "stream",
     "text": [
      "Sorry, You Are Out Of Acceptable Range (1,11) \n"
     ]
    },
    {
     "name": "stdin",
     "output_type": "stream",
     "text": [
      "Enter The Number Between (1-10) 10\n"
     ]
    },
    {
     "data": {
      "text/plain": [
       "10"
      ]
     },
     "execution_count": 13,
     "metadata": {},
     "output_type": "execute_result"
    }
   ],
   "source": [
    "# Validating User Input\n",
    "\n",
    "def user_choice():\n",
    "\n",
    "    choice = 'Wrong'\n",
    "    acceptable_range = range(1,11)\n",
    "    within_range = False\n",
    "\n",
    "    while choice.isdigit() == False or within_range == False:\n",
    "\n",
    "        choice = input(\"Enter The Number Between (1-10)\")\n",
    "\n",
    "        if choice.isdigit() == False:\n",
    "            print(\"Sorry, Its Not A Digit\")\n",
    "\n",
    "        if choice.isdigit() == True:\n",
    "            if int(choice) in acceptable_range:\n",
    "                within_range = True\n",
    "            else:\n",
    "                print(\"Sorry, You Are Out Of Acceptable Range (1,11) \")\n",
    "                within_range = False\n",
    "                \n",
    "    return int(choice)\n",
    "\n",
    "user_choice()"
   ]
  },
  {
   "cell_type": "code",
   "execution_count": 3,
   "id": "4542da07-de6b-4f31-8239-3e85bf79a7d2",
   "metadata": {},
   "outputs": [
    {
     "name": "stdout",
     "output_type": "stream",
     "text": [
      "Here Is The Current List: \n",
      "[0, 1, 2]\n"
     ]
    }
   ],
   "source": [
    "# Simple User Interaction\n",
    "\n",
    "game_list = [0,1,2]\n",
    "\n",
    "def display_game(game_list):\n",
    "    print(\"Here Is The Current List: \")\n",
    "    print(game_list)\n",
    "\n",
    "display_game(game_list)"
   ]
  },
  {
   "cell_type": "code",
   "execution_count": 7,
   "id": "734a4d00-e69b-4083-80a5-e0847849ee1d",
   "metadata": {},
   "outputs": [
    {
     "name": "stdin",
     "output_type": "stream",
     "text": [
      "Pick A Position (0,1,2):  Two\n"
     ]
    },
    {
     "name": "stdout",
     "output_type": "stream",
     "text": [
      "Sorry, Invalid Choice! \n"
     ]
    },
    {
     "name": "stdin",
     "output_type": "stream",
     "text": [
      "Pick A Position (0,1,2):  0\n"
     ]
    },
    {
     "data": {
      "text/plain": [
       "0"
      ]
     },
     "execution_count": 7,
     "metadata": {},
     "output_type": "execute_result"
    }
   ],
   "source": [
    "def choice_position():\n",
    "    \n",
    "    choice = \"Wrong\"\n",
    "\n",
    "    while choice not in ['0','1','2']:\n",
    "\n",
    "        choice = input(\"Pick A Position (0,1,2): \")\n",
    "\n",
    "        if choice not in ['0','1','2']:\n",
    "            print(\"Sorry, Invalid Choice! \")\n",
    "\n",
    "    return int(choice)\n",
    "\n",
    "choice_position()"
   ]
  },
  {
   "cell_type": "code",
   "execution_count": 9,
   "id": "a3d1dc16-2585-4ce0-aa51-46ab967a0600",
   "metadata": {},
   "outputs": [
    {
     "name": "stdin",
     "output_type": "stream",
     "text": [
      "Type A String To Place At Position:  Harsh\n"
     ]
    },
    {
     "data": {
      "text/plain": [
       "[0, 'Harsh', 2]"
      ]
     },
     "execution_count": 9,
     "metadata": {},
     "output_type": "execute_result"
    }
   ],
   "source": [
    "def replacement_choice(game_list,choice_position):\n",
    "\n",
    "    user_placement = input(\"Type A String To Place At Position: \")\n",
    "\n",
    "    game_list[choice_position] = user_placement\n",
    "\n",
    "    return game_list\n",
    "\n",
    "replacement_choice(game_list,1)"
   ]
  },
  {
   "cell_type": "code",
   "execution_count": 45,
   "id": "5b28df5b-23c3-477f-becc-46f627f065f1",
   "metadata": {},
   "outputs": [
    {
     "name": "stdin",
     "output_type": "stream",
     "text": [
      "Would you like to keep playing? Y or N  y\n"
     ]
    },
    {
     "name": "stdout",
     "output_type": "stream",
     "text": [
      "Sorry, I Don't Understand Please Choose Y Or N \n"
     ]
    },
    {
     "name": "stdin",
     "output_type": "stream",
     "text": [
      "Would you like to keep playing? Y or N  Y\n"
     ]
    },
    {
     "data": {
      "text/plain": [
       "True"
      ]
     },
     "execution_count": 45,
     "metadata": {},
     "output_type": "execute_result"
    }
   ],
   "source": [
    "def gameon_choice():\n",
    "    \n",
    "    choice = \"Wrong\"\n",
    "\n",
    "    while choice not in ['Y','N']:\n",
    "\n",
    "        choice = input(\"Would you like to keep playing? Y or N \")\n",
    "\n",
    "        if choice not in ['Y','N']:\n",
    "            print(\"Sorry, I Don't Understand Please Choose Y Or N \")\n",
    "\n",
    "    if choice == \"Y\":\n",
    "       return True \n",
    "    else:\n",
    "       return False\n",
    "        \n",
    "gameon_choice()"
   ]
  },
  {
   "cell_type": "code",
   "execution_count": 46,
   "id": "839e3d64-7df2-4af4-98c9-11ad34a65c96",
   "metadata": {},
   "outputs": [
    {
     "name": "stdout",
     "output_type": "stream",
     "text": [
      "Here Is The Current List: \n",
      "[0, 1, 2]\n"
     ]
    },
    {
     "name": "stdin",
     "output_type": "stream",
     "text": [
      "Pick A Position (0,1,2):  1\n",
      "Type A String To Place At Position:  Harsh\n"
     ]
    },
    {
     "name": "stdout",
     "output_type": "stream",
     "text": [
      "Here Is The Current List: \n",
      "[0, 'Harsh', 2]\n"
     ]
    },
    {
     "name": "stdin",
     "output_type": "stream",
     "text": [
      "Would you like to keep playing? Y or N  Y\n"
     ]
    },
    {
     "name": "stdout",
     "output_type": "stream",
     "text": [
      "Here Is The Current List: \n",
      "[0, 'Harsh', 2]\n"
     ]
    },
    {
     "name": "stdin",
     "output_type": "stream",
     "text": [
      "Pick A Position (0,1,2):  2\n",
      "Type A String To Place At Position:  Chauhan\n"
     ]
    },
    {
     "name": "stdout",
     "output_type": "stream",
     "text": [
      "Here Is The Current List: \n",
      "[0, 'Harsh', 'Chauhan']\n"
     ]
    },
    {
     "name": "stdin",
     "output_type": "stream",
     "text": [
      "Would you like to keep playing? Y or N  N\n"
     ]
    }
   ],
   "source": [
    "game_on = True\n",
    "game_list = [0,1,2]\n",
    "\n",
    "while game_on == True:\n",
    "\n",
    "    display_game(game_list)\n",
    "\n",
    "    position = choice_position()\n",
    "\n",
    "    game_list = replacement_choice(game_list,position)\n",
    "\n",
    "    display_game(game_list)\n",
    "                                   \n",
    "    game_on = gameon_choice()"
   ]
  }
 ],
 "metadata": {
  "kernelspec": {
   "display_name": "Python 3 (ipykernel)",
   "language": "python",
   "name": "python3"
  },
  "language_info": {
   "codemirror_mode": {
    "name": "ipython",
    "version": 3
   },
   "file_extension": ".py",
   "mimetype": "text/x-python",
   "name": "python",
   "nbconvert_exporter": "python",
   "pygments_lexer": "ipython3",
   "version": "3.12.7"
  }
 },
 "nbformat": 4,
 "nbformat_minor": 5
}
