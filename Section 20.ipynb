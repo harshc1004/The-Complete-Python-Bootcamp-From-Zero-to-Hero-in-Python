{
 "cells": [
  {
   "cell_type": "code",
   "execution_count": 1,
   "id": "05b5d305-53fb-4a33-9bfa-713643d09c7f",
   "metadata": {},
   "outputs": [],
   "source": [
    "# Advanced Python Objects And Data Structure"
   ]
  },
  {
   "cell_type": "code",
   "execution_count": 2,
   "id": "41fe9cfc-ca08-488d-bf14-6bdd4326e1d1",
   "metadata": {},
   "outputs": [
    {
     "data": {
      "text/plain": [
       "'0xfa'"
      ]
     },
     "execution_count": 2,
     "metadata": {},
     "output_type": "execute_result"
    }
   ],
   "source": [
    "# Hexadecimal\n",
    "\n",
    "hex(250)"
   ]
  },
  {
   "cell_type": "code",
   "execution_count": 3,
   "id": "dc7dde36-a81a-4a1d-8989-6b93c0168dbc",
   "metadata": {},
   "outputs": [
    {
     "data": {
      "text/plain": [
       "'0x3e8'"
      ]
     },
     "execution_count": 3,
     "metadata": {},
     "output_type": "execute_result"
    }
   ],
   "source": [
    "hex(1000)"
   ]
  },
  {
   "cell_type": "code",
   "execution_count": 4,
   "id": "2382a5e1-365d-4e44-8e9b-c4be41974a2a",
   "metadata": {},
   "outputs": [
    {
     "data": {
      "text/plain": [
       "'0b100000000'"
      ]
     },
     "execution_count": 4,
     "metadata": {},
     "output_type": "execute_result"
    }
   ],
   "source": [
    "# Binary\n",
    "\n",
    "bin(256)"
   ]
  },
  {
   "cell_type": "code",
   "execution_count": 5,
   "id": "c6c4f625-214d-49e2-bd1e-1c861de17be4",
   "metadata": {},
   "outputs": [
    {
     "data": {
      "text/plain": [
       "'0b1000000000'"
      ]
     },
     "execution_count": 5,
     "metadata": {},
     "output_type": "execute_result"
    }
   ],
   "source": [
    "bin(512)"
   ]
  },
  {
   "cell_type": "code",
   "execution_count": 6,
   "id": "908dac41-0b4c-4190-83f9-daf0e9f77ca5",
   "metadata": {},
   "outputs": [
    {
     "data": {
      "text/plain": [
       "243"
      ]
     },
     "execution_count": 6,
     "metadata": {},
     "output_type": "execute_result"
    }
   ],
   "source": [
    "# Exponentials\n",
    "\n",
    "pow(3,5)"
   ]
  },
  {
   "cell_type": "code",
   "execution_count": 7,
   "id": "7e2a23b1-43e8-48ff-9d3d-a52732233ab8",
   "metadata": {},
   "outputs": [
    {
     "data": {
      "text/plain": [
       "2"
      ]
     },
     "execution_count": 7,
     "metadata": {},
     "output_type": "execute_result"
    }
   ],
   "source": [
    "pow(2,5,3)"
   ]
  },
  {
   "cell_type": "code",
   "execution_count": 8,
   "id": "b9cf60c8-0bc5-449a-810a-f434343ee382",
   "metadata": {},
   "outputs": [
    {
     "data": {
      "text/plain": [
       "3.14"
      ]
     },
     "execution_count": 8,
     "metadata": {},
     "output_type": "execute_result"
    }
   ],
   "source": [
    "# Absolute Value\n",
    "\n",
    "abs(3.14)"
   ]
  },
  {
   "cell_type": "code",
   "execution_count": 10,
   "id": "ec2b3add-72e6-476d-96b7-b24d00669cfd",
   "metadata": {},
   "outputs": [
    {
     "data": {
      "text/plain": [
       "5.12"
      ]
     },
     "execution_count": 10,
     "metadata": {},
     "output_type": "execute_result"
    }
   ],
   "source": [
    "abs(-5.120)"
   ]
  },
  {
   "cell_type": "code",
   "execution_count": 11,
   "id": "6799e9a0-8a0e-4cd2-af7f-3a8b8e60001c",
   "metadata": {},
   "outputs": [
    {
     "data": {
      "text/plain": [
       "5"
      ]
     },
     "execution_count": 11,
     "metadata": {},
     "output_type": "execute_result"
    }
   ],
   "source": [
    "# Round\n",
    "\n",
    "round(5,10)"
   ]
  },
  {
   "cell_type": "code",
   "execution_count": 12,
   "id": "be5a706d-47d7-46b5-b663-3f6769be8483",
   "metadata": {},
   "outputs": [
    {
     "data": {
      "text/plain": [
       "25"
      ]
     },
     "execution_count": 12,
     "metadata": {},
     "output_type": "execute_result"
    }
   ],
   "source": [
    "round(25,2)"
   ]
  },
  {
   "cell_type": "code",
   "execution_count": 13,
   "id": "35f77caa-7913-4e9d-b672-d4d087666cb0",
   "metadata": {},
   "outputs": [
    {
     "data": {
      "text/plain": [
       "3"
      ]
     },
     "execution_count": 13,
     "metadata": {},
     "output_type": "execute_result"
    }
   ],
   "source": [
    "round(3.15244)"
   ]
  },
  {
   "cell_type": "code",
   "execution_count": 14,
   "id": "d91f0055-1725-407e-b575-7d025fb730f7",
   "metadata": {},
   "outputs": [],
   "source": [
    "# Advanced String\n",
    "\n",
    "s = 'hello world'"
   ]
  },
  {
   "cell_type": "code",
   "execution_count": 16,
   "id": "b98b8662-5b1b-4bbd-a9ef-d46f5d3c20ea",
   "metadata": {},
   "outputs": [
    {
     "data": {
      "text/plain": [
       "'Hello world'"
      ]
     },
     "execution_count": 16,
     "metadata": {},
     "output_type": "execute_result"
    }
   ],
   "source": [
    "s.capitalize()"
   ]
  },
  {
   "cell_type": "code",
   "execution_count": 17,
   "id": "96069805-0c27-4441-94a1-028f9b523332",
   "metadata": {},
   "outputs": [
    {
     "data": {
      "text/plain": [
       "'HELLO WORLD'"
      ]
     },
     "execution_count": 17,
     "metadata": {},
     "output_type": "execute_result"
    }
   ],
   "source": [
    "s.upper()"
   ]
  },
  {
   "cell_type": "code",
   "execution_count": 19,
   "id": "20f3ce71-0eaa-46b3-861f-905ea50b6054",
   "metadata": {},
   "outputs": [
    {
     "data": {
      "text/plain": [
       "0"
      ]
     },
     "execution_count": 19,
     "metadata": {},
     "output_type": "execute_result"
    }
   ],
   "source": [
    "s.count('H')"
   ]
  },
  {
   "cell_type": "code",
   "execution_count": 20,
   "id": "0a9cbc3e-3988-41c1-ae54-eb5fe2d1acf2",
   "metadata": {},
   "outputs": [
    {
     "data": {
      "text/plain": [
       "'zzzzhello worldzzzzz'"
      ]
     },
     "execution_count": 20,
     "metadata": {},
     "output_type": "execute_result"
    }
   ],
   "source": [
    "s.center(20,'z')"
   ]
  },
  {
   "cell_type": "code",
   "execution_count": 21,
   "id": "3c2d3d7f-b574-482e-848b-a70c69e96082",
   "metadata": {},
   "outputs": [
    {
     "data": {
      "text/plain": [
       "False"
      ]
     },
     "execution_count": 21,
     "metadata": {},
     "output_type": "execute_result"
    }
   ],
   "source": [
    "s.isupper()"
   ]
  },
  {
   "cell_type": "code",
   "execution_count": 23,
   "id": "04c192be-a411-403b-823a-4c8581725a64",
   "metadata": {},
   "outputs": [
    {
     "data": {
      "text/plain": [
       "False"
      ]
     },
     "execution_count": 23,
     "metadata": {},
     "output_type": "execute_result"
    }
   ],
   "source": [
    "s.endswith('p')"
   ]
  },
  {
   "cell_type": "code",
   "execution_count": 24,
   "id": "8ceb6965-1afb-499a-a075-9cb8c6f6a712",
   "metadata": {},
   "outputs": [
    {
     "data": {
      "text/plain": [
       "['hello', 'world']"
      ]
     },
     "execution_count": 24,
     "metadata": {},
     "output_type": "execute_result"
    }
   ],
   "source": [
    "s.split()"
   ]
  },
  {
   "cell_type": "code",
   "execution_count": 26,
   "id": "77e4bd5b-c040-4dd9-a252-9bc7fcfac13e",
   "metadata": {},
   "outputs": [],
   "source": [
    "# Advanced Sets\n",
    "\n",
    "s = set()"
   ]
  },
  {
   "cell_type": "code",
   "execution_count": 28,
   "id": "31ad484b-95ce-48fa-9a96-244137c5cdfb",
   "metadata": {},
   "outputs": [
    {
     "data": {
      "text/plain": [
       "{1, 3}"
      ]
     },
     "execution_count": 28,
     "metadata": {},
     "output_type": "execute_result"
    }
   ],
   "source": [
    "# Add\n",
    "\n",
    "s.add(1)\n",
    "s.add(3)\n",
    "s"
   ]
  },
  {
   "cell_type": "code",
   "execution_count": 31,
   "id": "7d1a8939-ea9e-4846-b06a-3178db94c0ca",
   "metadata": {},
   "outputs": [
    {
     "data": {
      "text/plain": [
       "{10, 11, 22, 25, 30, 45}"
      ]
     },
     "execution_count": 31,
     "metadata": {},
     "output_type": "execute_result"
    }
   ],
   "source": [
    "# Union\n",
    "\n",
    "s1 = {10,25,30}\n",
    "s2 = {11,22,45}\n",
    "\n",
    "s1.union(s2)"
   ]
  },
  {
   "cell_type": "code",
   "execution_count": 32,
   "id": "b13de30e-6417-47e5-8fc2-cd7f066dcd2a",
   "metadata": {},
   "outputs": [
    {
     "data": {
      "text/plain": [
       "{10, 11, 22, 25, 30, 45}"
      ]
     },
     "execution_count": 32,
     "metadata": {},
     "output_type": "execute_result"
    }
   ],
   "source": [
    "# Update\n",
    "\n",
    "s1.update(s2)\n",
    "s1"
   ]
  },
  {
   "cell_type": "code",
   "execution_count": 33,
   "id": "ab128c57-5511-4d5e-ac62-4b2acc6e5e1a",
   "metadata": {},
   "outputs": [
    {
     "data": {
      "text/plain": [
       "{0: 0, 1: 1, 2: 4, 3: 9, 4: 16, 5: 25, 6: 36, 7: 49, 8: 64, 9: 81}"
      ]
     },
     "execution_count": 33,
     "metadata": {},
     "output_type": "execute_result"
    }
   ],
   "source": [
    "# Advanced Dictionaries\n",
    "\n",
    "{x:x**2 for x in range(10)}"
   ]
  },
  {
   "cell_type": "code",
   "execution_count": 35,
   "id": "b27ce5c9-617e-45f0-8411-8459f38e5127",
   "metadata": {},
   "outputs": [
    {
     "name": "stdout",
     "output_type": "stream",
     "text": [
      "k1\n",
      "k2\n"
     ]
    }
   ],
   "source": [
    "d = {'k1':1,'k2':2}\n",
    "for k in d.keys():\n",
    "    print(k)"
   ]
  },
  {
   "cell_type": "code",
   "execution_count": 36,
   "id": "77699c3a-b8d1-4f95-afac-7dfc47941fc0",
   "metadata": {},
   "outputs": [
    {
     "name": "stdout",
     "output_type": "stream",
     "text": [
      "1\n",
      "2\n"
     ]
    }
   ],
   "source": [
    "for v in d.values():\n",
    "    print(v)"
   ]
  },
  {
   "cell_type": "code",
   "execution_count": 37,
   "id": "a7896f39-4f02-4ce0-962e-ba26724d9234",
   "metadata": {},
   "outputs": [
    {
     "name": "stdout",
     "output_type": "stream",
     "text": [
      "('k1', 1)\n",
      "('k2', 2)\n"
     ]
    }
   ],
   "source": [
    "for item in d.items():\n",
    "    print(item)"
   ]
  },
  {
   "cell_type": "code",
   "execution_count": 40,
   "id": "d1979755-c3bc-409c-9dc1-21ee142d5169",
   "metadata": {},
   "outputs": [
    {
     "data": {
      "text/plain": [
       "dict_keys(['k1', 'k2'])"
      ]
     },
     "execution_count": 40,
     "metadata": {},
     "output_type": "execute_result"
    }
   ],
   "source": [
    "key_view = d.keys()\n",
    "\n",
    "key_view"
   ]
  },
  {
   "cell_type": "code",
   "execution_count": 41,
   "id": "a3e8c00e-67d6-4d7b-b946-2aeb848124ce",
   "metadata": {},
   "outputs": [
    {
     "data": {
      "text/plain": [
       "{'k1': 1, 'k2': 2, 'k3': 3}"
      ]
     },
     "execution_count": 41,
     "metadata": {},
     "output_type": "execute_result"
    }
   ],
   "source": [
    "d['k3'] = 3\n",
    "\n",
    "d"
   ]
  },
  {
   "cell_type": "code",
   "execution_count": 42,
   "id": "80d987bb-9da1-491b-8751-722bc405335a",
   "metadata": {},
   "outputs": [
    {
     "data": {
      "text/plain": [
       "dict_keys(['k1', 'k2', 'k3'])"
      ]
     },
     "execution_count": 42,
     "metadata": {},
     "output_type": "execute_result"
    }
   ],
   "source": [
    "key_view"
   ]
  },
  {
   "cell_type": "code",
   "execution_count": 43,
   "id": "f220b4c8-ac89-4200-94c8-76ad58ab5fe1",
   "metadata": {},
   "outputs": [],
   "source": [
    "# Advanced List\n",
    "\n",
    "list1 = [1,2,3]"
   ]
  },
  {
   "cell_type": "code",
   "execution_count": 44,
   "id": "b4d4aefa-a04c-4632-92fd-187e49799cb7",
   "metadata": {},
   "outputs": [
    {
     "data": {
      "text/plain": [
       "[1, 2, 3, 4]"
      ]
     },
     "execution_count": 44,
     "metadata": {},
     "output_type": "execute_result"
    }
   ],
   "source": [
    "# Append\n",
    "\n",
    "list1.append(4)\n",
    "\n",
    "list1"
   ]
  },
  {
   "cell_type": "code",
   "execution_count": 47,
   "id": "9ac08b3a-372e-4f46-954d-800ae00e73ab",
   "metadata": {},
   "outputs": [
    {
     "data": {
      "text/plain": [
       "1"
      ]
     },
     "execution_count": 47,
     "metadata": {},
     "output_type": "execute_result"
    }
   ],
   "source": [
    "# Count\n",
    "\n",
    "list1.count(2)"
   ]
  }
 ],
 "metadata": {
  "kernelspec": {
   "display_name": "Python 3 (ipykernel)",
   "language": "python",
   "name": "python3"
  },
  "language_info": {
   "codemirror_mode": {
    "name": "ipython",
    "version": 3
   },
   "file_extension": ".py",
   "mimetype": "text/x-python",
   "name": "python",
   "nbconvert_exporter": "python",
   "pygments_lexer": "ipython3",
   "version": "3.12.7"
  }
 },
 "nbformat": 4,
 "nbformat_minor": 5
}
